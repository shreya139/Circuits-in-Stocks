{
  "cells": [
    {
      "cell_type": "markdown",
      "metadata": {
        "id": "view-in-github",
        "colab_type": "text"
      },
      "source": [
        "<a href=\"https://colab.research.google.com/github/shreya139/Circuits-in-Stocks/blob/202218061-JATAN/Final_Lstm_nifty_closing.ipynb\" target=\"_parent\"><img src=\"https://colab.research.google.com/assets/colab-badge.svg\" alt=\"Open In Colab\"/></a>"
      ]
    },
    {
      "cell_type": "markdown",
      "metadata": {
        "id": "wjsm3KpZImhX"
      },
      "source": [
        "### Stock Market Prediction And Forecasting Using Stacked LSTM"
      ]
    },
    {
      "cell_type": "code",
      "execution_count": 1,
      "metadata": {
        "id": "LgLZQz2uImha"
      },
      "outputs": [],
      "source": [
        "### Keras and Tensorflow >2.0"
      ]
    },
    {
      "cell_type": "code",
      "execution_count": 2,
      "metadata": {
        "id": "wLMnD4eVImhc"
      },
      "outputs": [],
      "source": [
        "### Data Collection\n",
        "import pandas_datareader as pdr\n",
        "key=\"\""
      ]
    },
    {
      "cell_type": "code",
      "source": [
        "import pandas as pd\n",
        "import numpy as np\n",
        "import matplotlib.pyplot as plt\n",
        "import gc\n",
        "# from talib import RSI, BBANDS, MACD, EMA, STOCH, ADX\n",
        "# from nsepy import get_history\n",
        "from datetime import date\n",
        "import yfinance as yf"
      ],
      "metadata": {
        "id": "K4b2zYUhI_29"
      },
      "execution_count": 248,
      "outputs": []
    },
    {
      "cell_type": "code",
      "source": [
        "import yfinance as yf\n",
        "yf.pdr_override()\n",
        "from pandas_datareader import data as pdr"
      ],
      "metadata": {
        "id": "tHOm6ouPJCSF"
      },
      "execution_count": 249,
      "outputs": []
    },
    {
      "cell_type": "code",
      "source": [
        "yf.pdr_override() # <== that's all it takes :-)\n",
        "\n",
        "\n",
        "#this is reference start date before EMA 200 days will fetch null\n",
        "ref_startdate = date(2015,1,1)\n",
        "\n",
        "#actual start date and end date from where the Nifty model to be built\n",
        "startdate = date(2019,1,1)\n",
        "enddate = date(2023,10,31)\n",
        "\n",
        "# download dataframe\n",
        "df = pdr.get_data_yahoo(\"^NSEI\", start=startdate, end=enddate,interval='1d')\n",
        "df\n"
      ],
      "metadata": {
        "colab": {
          "base_uri": "https://localhost:8080/",
          "height": 472
        },
        "id": "-2VdxrQ-I9TJ",
        "outputId": "7831772d-4d8f-4a00-b763-f665fa693b52"
      },
      "execution_count": 387,
      "outputs": [
        {
          "output_type": "stream",
          "name": "stdout",
          "text": [
            "\r[*********************100%%**********************]  1 of 1 completed\n"
          ]
        },
        {
          "output_type": "execute_result",
          "data": {
            "text/plain": [
              "                    Open          High           Low         Close  \\\n",
              "Date                                                                 \n",
              "2019-01-02  10868.849609  10895.349609  10735.049805  10792.500000   \n",
              "2019-01-03  10796.799805  10814.049805  10661.250000  10672.250000   \n",
              "2019-01-04  10699.700195  10741.049805  10628.650391  10727.349609   \n",
              "2019-01-07  10804.849609  10835.950195  10750.150391  10771.799805   \n",
              "2019-01-08  10786.250000  10818.450195  10733.250000  10802.150391   \n",
              "...                  ...           ...           ...           ...   \n",
              "2023-10-23  19521.599609  19556.849609  19257.849609  19281.750000   \n",
              "2023-10-25  19286.449219  19347.300781  19074.150391  19122.150391   \n",
              "2023-10-26  19027.250000  19041.699219  18837.849609  18857.250000   \n",
              "2023-10-27  18928.750000  19076.150391  18926.650391  19047.250000   \n",
              "2023-10-30  19053.400391  19158.500000  18940.000000  19140.900391   \n",
              "\n",
              "               Adj Close  Volume  \n",
              "Date                              \n",
              "2019-01-02  10792.500000  309700  \n",
              "2019-01-03  10672.250000  286200  \n",
              "2019-01-04  10727.349609  296600  \n",
              "2019-01-07  10771.799805  269400  \n",
              "2019-01-08  10802.150391  277700  \n",
              "...                  ...     ...  \n",
              "2023-10-23  19281.750000  176000  \n",
              "2023-10-25  19122.150391  225300  \n",
              "2023-10-26  18857.250000  300400  \n",
              "2023-10-27  19047.250000  205200  \n",
              "2023-10-30  19140.900391  180100  \n",
              "\n",
              "[1191 rows x 6 columns]"
            ],
            "text/html": [
              "\n",
              "  <div id=\"df-b856f503-ca3d-49cb-8924-8529afb35309\" class=\"colab-df-container\">\n",
              "    <div>\n",
              "<style scoped>\n",
              "    .dataframe tbody tr th:only-of-type {\n",
              "        vertical-align: middle;\n",
              "    }\n",
              "\n",
              "    .dataframe tbody tr th {\n",
              "        vertical-align: top;\n",
              "    }\n",
              "\n",
              "    .dataframe thead th {\n",
              "        text-align: right;\n",
              "    }\n",
              "</style>\n",
              "<table border=\"1\" class=\"dataframe\">\n",
              "  <thead>\n",
              "    <tr style=\"text-align: right;\">\n",
              "      <th></th>\n",
              "      <th>Open</th>\n",
              "      <th>High</th>\n",
              "      <th>Low</th>\n",
              "      <th>Close</th>\n",
              "      <th>Adj Close</th>\n",
              "      <th>Volume</th>\n",
              "    </tr>\n",
              "    <tr>\n",
              "      <th>Date</th>\n",
              "      <th></th>\n",
              "      <th></th>\n",
              "      <th></th>\n",
              "      <th></th>\n",
              "      <th></th>\n",
              "      <th></th>\n",
              "    </tr>\n",
              "  </thead>\n",
              "  <tbody>\n",
              "    <tr>\n",
              "      <th>2019-01-02</th>\n",
              "      <td>10868.849609</td>\n",
              "      <td>10895.349609</td>\n",
              "      <td>10735.049805</td>\n",
              "      <td>10792.500000</td>\n",
              "      <td>10792.500000</td>\n",
              "      <td>309700</td>\n",
              "    </tr>\n",
              "    <tr>\n",
              "      <th>2019-01-03</th>\n",
              "      <td>10796.799805</td>\n",
              "      <td>10814.049805</td>\n",
              "      <td>10661.250000</td>\n",
              "      <td>10672.250000</td>\n",
              "      <td>10672.250000</td>\n",
              "      <td>286200</td>\n",
              "    </tr>\n",
              "    <tr>\n",
              "      <th>2019-01-04</th>\n",
              "      <td>10699.700195</td>\n",
              "      <td>10741.049805</td>\n",
              "      <td>10628.650391</td>\n",
              "      <td>10727.349609</td>\n",
              "      <td>10727.349609</td>\n",
              "      <td>296600</td>\n",
              "    </tr>\n",
              "    <tr>\n",
              "      <th>2019-01-07</th>\n",
              "      <td>10804.849609</td>\n",
              "      <td>10835.950195</td>\n",
              "      <td>10750.150391</td>\n",
              "      <td>10771.799805</td>\n",
              "      <td>10771.799805</td>\n",
              "      <td>269400</td>\n",
              "    </tr>\n",
              "    <tr>\n",
              "      <th>2019-01-08</th>\n",
              "      <td>10786.250000</td>\n",
              "      <td>10818.450195</td>\n",
              "      <td>10733.250000</td>\n",
              "      <td>10802.150391</td>\n",
              "      <td>10802.150391</td>\n",
              "      <td>277700</td>\n",
              "    </tr>\n",
              "    <tr>\n",
              "      <th>...</th>\n",
              "      <td>...</td>\n",
              "      <td>...</td>\n",
              "      <td>...</td>\n",
              "      <td>...</td>\n",
              "      <td>...</td>\n",
              "      <td>...</td>\n",
              "    </tr>\n",
              "    <tr>\n",
              "      <th>2023-10-23</th>\n",
              "      <td>19521.599609</td>\n",
              "      <td>19556.849609</td>\n",
              "      <td>19257.849609</td>\n",
              "      <td>19281.750000</td>\n",
              "      <td>19281.750000</td>\n",
              "      <td>176000</td>\n",
              "    </tr>\n",
              "    <tr>\n",
              "      <th>2023-10-25</th>\n",
              "      <td>19286.449219</td>\n",
              "      <td>19347.300781</td>\n",
              "      <td>19074.150391</td>\n",
              "      <td>19122.150391</td>\n",
              "      <td>19122.150391</td>\n",
              "      <td>225300</td>\n",
              "    </tr>\n",
              "    <tr>\n",
              "      <th>2023-10-26</th>\n",
              "      <td>19027.250000</td>\n",
              "      <td>19041.699219</td>\n",
              "      <td>18837.849609</td>\n",
              "      <td>18857.250000</td>\n",
              "      <td>18857.250000</td>\n",
              "      <td>300400</td>\n",
              "    </tr>\n",
              "    <tr>\n",
              "      <th>2023-10-27</th>\n",
              "      <td>18928.750000</td>\n",
              "      <td>19076.150391</td>\n",
              "      <td>18926.650391</td>\n",
              "      <td>19047.250000</td>\n",
              "      <td>19047.250000</td>\n",
              "      <td>205200</td>\n",
              "    </tr>\n",
              "    <tr>\n",
              "      <th>2023-10-30</th>\n",
              "      <td>19053.400391</td>\n",
              "      <td>19158.500000</td>\n",
              "      <td>18940.000000</td>\n",
              "      <td>19140.900391</td>\n",
              "      <td>19140.900391</td>\n",
              "      <td>180100</td>\n",
              "    </tr>\n",
              "  </tbody>\n",
              "</table>\n",
              "<p>1191 rows × 6 columns</p>\n",
              "</div>\n",
              "    <div class=\"colab-df-buttons\">\n",
              "\n",
              "  <div class=\"colab-df-container\">\n",
              "    <button class=\"colab-df-convert\" onclick=\"convertToInteractive('df-b856f503-ca3d-49cb-8924-8529afb35309')\"\n",
              "            title=\"Convert this dataframe to an interactive table.\"\n",
              "            style=\"display:none;\">\n",
              "\n",
              "  <svg xmlns=\"http://www.w3.org/2000/svg\" height=\"24px\" viewBox=\"0 -960 960 960\">\n",
              "    <path d=\"M120-120v-720h720v720H120Zm60-500h600v-160H180v160Zm220 220h160v-160H400v160Zm0 220h160v-160H400v160ZM180-400h160v-160H180v160Zm440 0h160v-160H620v160ZM180-180h160v-160H180v160Zm440 0h160v-160H620v160Z\"/>\n",
              "  </svg>\n",
              "    </button>\n",
              "\n",
              "  <style>\n",
              "    .colab-df-container {\n",
              "      display:flex;\n",
              "      gap: 12px;\n",
              "    }\n",
              "\n",
              "    .colab-df-convert {\n",
              "      background-color: #E8F0FE;\n",
              "      border: none;\n",
              "      border-radius: 50%;\n",
              "      cursor: pointer;\n",
              "      display: none;\n",
              "      fill: #1967D2;\n",
              "      height: 32px;\n",
              "      padding: 0 0 0 0;\n",
              "      width: 32px;\n",
              "    }\n",
              "\n",
              "    .colab-df-convert:hover {\n",
              "      background-color: #E2EBFA;\n",
              "      box-shadow: 0px 1px 2px rgba(60, 64, 67, 0.3), 0px 1px 3px 1px rgba(60, 64, 67, 0.15);\n",
              "      fill: #174EA6;\n",
              "    }\n",
              "\n",
              "    .colab-df-buttons div {\n",
              "      margin-bottom: 4px;\n",
              "    }\n",
              "\n",
              "    [theme=dark] .colab-df-convert {\n",
              "      background-color: #3B4455;\n",
              "      fill: #D2E3FC;\n",
              "    }\n",
              "\n",
              "    [theme=dark] .colab-df-convert:hover {\n",
              "      background-color: #434B5C;\n",
              "      box-shadow: 0px 1px 3px 1px rgba(0, 0, 0, 0.15);\n",
              "      filter: drop-shadow(0px 1px 2px rgba(0, 0, 0, 0.3));\n",
              "      fill: #FFFFFF;\n",
              "    }\n",
              "  </style>\n",
              "\n",
              "    <script>\n",
              "      const buttonEl =\n",
              "        document.querySelector('#df-b856f503-ca3d-49cb-8924-8529afb35309 button.colab-df-convert');\n",
              "      buttonEl.style.display =\n",
              "        google.colab.kernel.accessAllowed ? 'block' : 'none';\n",
              "\n",
              "      async function convertToInteractive(key) {\n",
              "        const element = document.querySelector('#df-b856f503-ca3d-49cb-8924-8529afb35309');\n",
              "        const dataTable =\n",
              "          await google.colab.kernel.invokeFunction('convertToInteractive',\n",
              "                                                    [key], {});\n",
              "        if (!dataTable) return;\n",
              "\n",
              "        const docLinkHtml = 'Like what you see? Visit the ' +\n",
              "          '<a target=\"_blank\" href=https://colab.research.google.com/notebooks/data_table.ipynb>data table notebook</a>'\n",
              "          + ' to learn more about interactive tables.';\n",
              "        element.innerHTML = '';\n",
              "        dataTable['output_type'] = 'display_data';\n",
              "        await google.colab.output.renderOutput(dataTable, element);\n",
              "        const docLink = document.createElement('div');\n",
              "        docLink.innerHTML = docLinkHtml;\n",
              "        element.appendChild(docLink);\n",
              "      }\n",
              "    </script>\n",
              "  </div>\n",
              "\n",
              "\n",
              "<div id=\"df-8446cd59-dda1-4b38-a237-04c890b7895c\">\n",
              "  <button class=\"colab-df-quickchart\" onclick=\"quickchart('df-8446cd59-dda1-4b38-a237-04c890b7895c')\"\n",
              "            title=\"Suggest charts\"\n",
              "            style=\"display:none;\">\n",
              "\n",
              "<svg xmlns=\"http://www.w3.org/2000/svg\" height=\"24px\"viewBox=\"0 0 24 24\"\n",
              "     width=\"24px\">\n",
              "    <g>\n",
              "        <path d=\"M19 3H5c-1.1 0-2 .9-2 2v14c0 1.1.9 2 2 2h14c1.1 0 2-.9 2-2V5c0-1.1-.9-2-2-2zM9 17H7v-7h2v7zm4 0h-2V7h2v10zm4 0h-2v-4h2v4z\"/>\n",
              "    </g>\n",
              "</svg>\n",
              "  </button>\n",
              "\n",
              "<style>\n",
              "  .colab-df-quickchart {\n",
              "      --bg-color: #E8F0FE;\n",
              "      --fill-color: #1967D2;\n",
              "      --hover-bg-color: #E2EBFA;\n",
              "      --hover-fill-color: #174EA6;\n",
              "      --disabled-fill-color: #AAA;\n",
              "      --disabled-bg-color: #DDD;\n",
              "  }\n",
              "\n",
              "  [theme=dark] .colab-df-quickchart {\n",
              "      --bg-color: #3B4455;\n",
              "      --fill-color: #D2E3FC;\n",
              "      --hover-bg-color: #434B5C;\n",
              "      --hover-fill-color: #FFFFFF;\n",
              "      --disabled-bg-color: #3B4455;\n",
              "      --disabled-fill-color: #666;\n",
              "  }\n",
              "\n",
              "  .colab-df-quickchart {\n",
              "    background-color: var(--bg-color);\n",
              "    border: none;\n",
              "    border-radius: 50%;\n",
              "    cursor: pointer;\n",
              "    display: none;\n",
              "    fill: var(--fill-color);\n",
              "    height: 32px;\n",
              "    padding: 0;\n",
              "    width: 32px;\n",
              "  }\n",
              "\n",
              "  .colab-df-quickchart:hover {\n",
              "    background-color: var(--hover-bg-color);\n",
              "    box-shadow: 0 1px 2px rgba(60, 64, 67, 0.3), 0 1px 3px 1px rgba(60, 64, 67, 0.15);\n",
              "    fill: var(--button-hover-fill-color);\n",
              "  }\n",
              "\n",
              "  .colab-df-quickchart-complete:disabled,\n",
              "  .colab-df-quickchart-complete:disabled:hover {\n",
              "    background-color: var(--disabled-bg-color);\n",
              "    fill: var(--disabled-fill-color);\n",
              "    box-shadow: none;\n",
              "  }\n",
              "\n",
              "  .colab-df-spinner {\n",
              "    border: 2px solid var(--fill-color);\n",
              "    border-color: transparent;\n",
              "    border-bottom-color: var(--fill-color);\n",
              "    animation:\n",
              "      spin 1s steps(1) infinite;\n",
              "  }\n",
              "\n",
              "  @keyframes spin {\n",
              "    0% {\n",
              "      border-color: transparent;\n",
              "      border-bottom-color: var(--fill-color);\n",
              "      border-left-color: var(--fill-color);\n",
              "    }\n",
              "    20% {\n",
              "      border-color: transparent;\n",
              "      border-left-color: var(--fill-color);\n",
              "      border-top-color: var(--fill-color);\n",
              "    }\n",
              "    30% {\n",
              "      border-color: transparent;\n",
              "      border-left-color: var(--fill-color);\n",
              "      border-top-color: var(--fill-color);\n",
              "      border-right-color: var(--fill-color);\n",
              "    }\n",
              "    40% {\n",
              "      border-color: transparent;\n",
              "      border-right-color: var(--fill-color);\n",
              "      border-top-color: var(--fill-color);\n",
              "    }\n",
              "    60% {\n",
              "      border-color: transparent;\n",
              "      border-right-color: var(--fill-color);\n",
              "    }\n",
              "    80% {\n",
              "      border-color: transparent;\n",
              "      border-right-color: var(--fill-color);\n",
              "      border-bottom-color: var(--fill-color);\n",
              "    }\n",
              "    90% {\n",
              "      border-color: transparent;\n",
              "      border-bottom-color: var(--fill-color);\n",
              "    }\n",
              "  }\n",
              "</style>\n",
              "\n",
              "  <script>\n",
              "    async function quickchart(key) {\n",
              "      const quickchartButtonEl =\n",
              "        document.querySelector('#' + key + ' button');\n",
              "      quickchartButtonEl.disabled = true;  // To prevent multiple clicks.\n",
              "      quickchartButtonEl.classList.add('colab-df-spinner');\n",
              "      try {\n",
              "        const charts = await google.colab.kernel.invokeFunction(\n",
              "            'suggestCharts', [key], {});\n",
              "      } catch (error) {\n",
              "        console.error('Error during call to suggestCharts:', error);\n",
              "      }\n",
              "      quickchartButtonEl.classList.remove('colab-df-spinner');\n",
              "      quickchartButtonEl.classList.add('colab-df-quickchart-complete');\n",
              "    }\n",
              "    (() => {\n",
              "      let quickchartButtonEl =\n",
              "        document.querySelector('#df-8446cd59-dda1-4b38-a237-04c890b7895c button');\n",
              "      quickchartButtonEl.style.display =\n",
              "        google.colab.kernel.accessAllowed ? 'block' : 'none';\n",
              "    })();\n",
              "  </script>\n",
              "</div>\n",
              "    </div>\n",
              "  </div>\n"
            ]
          },
          "metadata": {},
          "execution_count": 387
        }
      ]
    },
    {
      "cell_type": "code",
      "execution_count": 388,
      "metadata": {
        "colab": {
          "base_uri": "https://localhost:8080/",
          "height": 238
        },
        "id": "jvf8K-PiImhe",
        "outputId": "940eb415-b14d-493e-ae8e-ef6605da1d7b"
      },
      "outputs": [
        {
          "output_type": "execute_result",
          "data": {
            "text/plain": [
              "                    Open          High           Low         Close  \\\n",
              "Date                                                                 \n",
              "2019-01-02  10868.849609  10895.349609  10735.049805  10792.500000   \n",
              "2019-01-03  10796.799805  10814.049805  10661.250000  10672.250000   \n",
              "2019-01-04  10699.700195  10741.049805  10628.650391  10727.349609   \n",
              "2019-01-07  10804.849609  10835.950195  10750.150391  10771.799805   \n",
              "2019-01-08  10786.250000  10818.450195  10733.250000  10802.150391   \n",
              "\n",
              "               Adj Close  Volume  \n",
              "Date                              \n",
              "2019-01-02  10792.500000  309700  \n",
              "2019-01-03  10672.250000  286200  \n",
              "2019-01-04  10727.349609  296600  \n",
              "2019-01-07  10771.799805  269400  \n",
              "2019-01-08  10802.150391  277700  "
            ],
            "text/html": [
              "\n",
              "  <div id=\"df-959a33c6-b090-43f2-9949-41726750c697\" class=\"colab-df-container\">\n",
              "    <div>\n",
              "<style scoped>\n",
              "    .dataframe tbody tr th:only-of-type {\n",
              "        vertical-align: middle;\n",
              "    }\n",
              "\n",
              "    .dataframe tbody tr th {\n",
              "        vertical-align: top;\n",
              "    }\n",
              "\n",
              "    .dataframe thead th {\n",
              "        text-align: right;\n",
              "    }\n",
              "</style>\n",
              "<table border=\"1\" class=\"dataframe\">\n",
              "  <thead>\n",
              "    <tr style=\"text-align: right;\">\n",
              "      <th></th>\n",
              "      <th>Open</th>\n",
              "      <th>High</th>\n",
              "      <th>Low</th>\n",
              "      <th>Close</th>\n",
              "      <th>Adj Close</th>\n",
              "      <th>Volume</th>\n",
              "    </tr>\n",
              "    <tr>\n",
              "      <th>Date</th>\n",
              "      <th></th>\n",
              "      <th></th>\n",
              "      <th></th>\n",
              "      <th></th>\n",
              "      <th></th>\n",
              "      <th></th>\n",
              "    </tr>\n",
              "  </thead>\n",
              "  <tbody>\n",
              "    <tr>\n",
              "      <th>2019-01-02</th>\n",
              "      <td>10868.849609</td>\n",
              "      <td>10895.349609</td>\n",
              "      <td>10735.049805</td>\n",
              "      <td>10792.500000</td>\n",
              "      <td>10792.500000</td>\n",
              "      <td>309700</td>\n",
              "    </tr>\n",
              "    <tr>\n",
              "      <th>2019-01-03</th>\n",
              "      <td>10796.799805</td>\n",
              "      <td>10814.049805</td>\n",
              "      <td>10661.250000</td>\n",
              "      <td>10672.250000</td>\n",
              "      <td>10672.250000</td>\n",
              "      <td>286200</td>\n",
              "    </tr>\n",
              "    <tr>\n",
              "      <th>2019-01-04</th>\n",
              "      <td>10699.700195</td>\n",
              "      <td>10741.049805</td>\n",
              "      <td>10628.650391</td>\n",
              "      <td>10727.349609</td>\n",
              "      <td>10727.349609</td>\n",
              "      <td>296600</td>\n",
              "    </tr>\n",
              "    <tr>\n",
              "      <th>2019-01-07</th>\n",
              "      <td>10804.849609</td>\n",
              "      <td>10835.950195</td>\n",
              "      <td>10750.150391</td>\n",
              "      <td>10771.799805</td>\n",
              "      <td>10771.799805</td>\n",
              "      <td>269400</td>\n",
              "    </tr>\n",
              "    <tr>\n",
              "      <th>2019-01-08</th>\n",
              "      <td>10786.250000</td>\n",
              "      <td>10818.450195</td>\n",
              "      <td>10733.250000</td>\n",
              "      <td>10802.150391</td>\n",
              "      <td>10802.150391</td>\n",
              "      <td>277700</td>\n",
              "    </tr>\n",
              "  </tbody>\n",
              "</table>\n",
              "</div>\n",
              "    <div class=\"colab-df-buttons\">\n",
              "\n",
              "  <div class=\"colab-df-container\">\n",
              "    <button class=\"colab-df-convert\" onclick=\"convertToInteractive('df-959a33c6-b090-43f2-9949-41726750c697')\"\n",
              "            title=\"Convert this dataframe to an interactive table.\"\n",
              "            style=\"display:none;\">\n",
              "\n",
              "  <svg xmlns=\"http://www.w3.org/2000/svg\" height=\"24px\" viewBox=\"0 -960 960 960\">\n",
              "    <path d=\"M120-120v-720h720v720H120Zm60-500h600v-160H180v160Zm220 220h160v-160H400v160Zm0 220h160v-160H400v160ZM180-400h160v-160H180v160Zm440 0h160v-160H620v160ZM180-180h160v-160H180v160Zm440 0h160v-160H620v160Z\"/>\n",
              "  </svg>\n",
              "    </button>\n",
              "\n",
              "  <style>\n",
              "    .colab-df-container {\n",
              "      display:flex;\n",
              "      gap: 12px;\n",
              "    }\n",
              "\n",
              "    .colab-df-convert {\n",
              "      background-color: #E8F0FE;\n",
              "      border: none;\n",
              "      border-radius: 50%;\n",
              "      cursor: pointer;\n",
              "      display: none;\n",
              "      fill: #1967D2;\n",
              "      height: 32px;\n",
              "      padding: 0 0 0 0;\n",
              "      width: 32px;\n",
              "    }\n",
              "\n",
              "    .colab-df-convert:hover {\n",
              "      background-color: #E2EBFA;\n",
              "      box-shadow: 0px 1px 2px rgba(60, 64, 67, 0.3), 0px 1px 3px 1px rgba(60, 64, 67, 0.15);\n",
              "      fill: #174EA6;\n",
              "    }\n",
              "\n",
              "    .colab-df-buttons div {\n",
              "      margin-bottom: 4px;\n",
              "    }\n",
              "\n",
              "    [theme=dark] .colab-df-convert {\n",
              "      background-color: #3B4455;\n",
              "      fill: #D2E3FC;\n",
              "    }\n",
              "\n",
              "    [theme=dark] .colab-df-convert:hover {\n",
              "      background-color: #434B5C;\n",
              "      box-shadow: 0px 1px 3px 1px rgba(0, 0, 0, 0.15);\n",
              "      filter: drop-shadow(0px 1px 2px rgba(0, 0, 0, 0.3));\n",
              "      fill: #FFFFFF;\n",
              "    }\n",
              "  </style>\n",
              "\n",
              "    <script>\n",
              "      const buttonEl =\n",
              "        document.querySelector('#df-959a33c6-b090-43f2-9949-41726750c697 button.colab-df-convert');\n",
              "      buttonEl.style.display =\n",
              "        google.colab.kernel.accessAllowed ? 'block' : 'none';\n",
              "\n",
              "      async function convertToInteractive(key) {\n",
              "        const element = document.querySelector('#df-959a33c6-b090-43f2-9949-41726750c697');\n",
              "        const dataTable =\n",
              "          await google.colab.kernel.invokeFunction('convertToInteractive',\n",
              "                                                    [key], {});\n",
              "        if (!dataTable) return;\n",
              "\n",
              "        const docLinkHtml = 'Like what you see? Visit the ' +\n",
              "          '<a target=\"_blank\" href=https://colab.research.google.com/notebooks/data_table.ipynb>data table notebook</a>'\n",
              "          + ' to learn more about interactive tables.';\n",
              "        element.innerHTML = '';\n",
              "        dataTable['output_type'] = 'display_data';\n",
              "        await google.colab.output.renderOutput(dataTable, element);\n",
              "        const docLink = document.createElement('div');\n",
              "        docLink.innerHTML = docLinkHtml;\n",
              "        element.appendChild(docLink);\n",
              "      }\n",
              "    </script>\n",
              "  </div>\n",
              "\n",
              "\n",
              "<div id=\"df-7ff33282-1b2d-434e-9cfc-a70b7305cfac\">\n",
              "  <button class=\"colab-df-quickchart\" onclick=\"quickchart('df-7ff33282-1b2d-434e-9cfc-a70b7305cfac')\"\n",
              "            title=\"Suggest charts\"\n",
              "            style=\"display:none;\">\n",
              "\n",
              "<svg xmlns=\"http://www.w3.org/2000/svg\" height=\"24px\"viewBox=\"0 0 24 24\"\n",
              "     width=\"24px\">\n",
              "    <g>\n",
              "        <path d=\"M19 3H5c-1.1 0-2 .9-2 2v14c0 1.1.9 2 2 2h14c1.1 0 2-.9 2-2V5c0-1.1-.9-2-2-2zM9 17H7v-7h2v7zm4 0h-2V7h2v10zm4 0h-2v-4h2v4z\"/>\n",
              "    </g>\n",
              "</svg>\n",
              "  </button>\n",
              "\n",
              "<style>\n",
              "  .colab-df-quickchart {\n",
              "      --bg-color: #E8F0FE;\n",
              "      --fill-color: #1967D2;\n",
              "      --hover-bg-color: #E2EBFA;\n",
              "      --hover-fill-color: #174EA6;\n",
              "      --disabled-fill-color: #AAA;\n",
              "      --disabled-bg-color: #DDD;\n",
              "  }\n",
              "\n",
              "  [theme=dark] .colab-df-quickchart {\n",
              "      --bg-color: #3B4455;\n",
              "      --fill-color: #D2E3FC;\n",
              "      --hover-bg-color: #434B5C;\n",
              "      --hover-fill-color: #FFFFFF;\n",
              "      --disabled-bg-color: #3B4455;\n",
              "      --disabled-fill-color: #666;\n",
              "  }\n",
              "\n",
              "  .colab-df-quickchart {\n",
              "    background-color: var(--bg-color);\n",
              "    border: none;\n",
              "    border-radius: 50%;\n",
              "    cursor: pointer;\n",
              "    display: none;\n",
              "    fill: var(--fill-color);\n",
              "    height: 32px;\n",
              "    padding: 0;\n",
              "    width: 32px;\n",
              "  }\n",
              "\n",
              "  .colab-df-quickchart:hover {\n",
              "    background-color: var(--hover-bg-color);\n",
              "    box-shadow: 0 1px 2px rgba(60, 64, 67, 0.3), 0 1px 3px 1px rgba(60, 64, 67, 0.15);\n",
              "    fill: var(--button-hover-fill-color);\n",
              "  }\n",
              "\n",
              "  .colab-df-quickchart-complete:disabled,\n",
              "  .colab-df-quickchart-complete:disabled:hover {\n",
              "    background-color: var(--disabled-bg-color);\n",
              "    fill: var(--disabled-fill-color);\n",
              "    box-shadow: none;\n",
              "  }\n",
              "\n",
              "  .colab-df-spinner {\n",
              "    border: 2px solid var(--fill-color);\n",
              "    border-color: transparent;\n",
              "    border-bottom-color: var(--fill-color);\n",
              "    animation:\n",
              "      spin 1s steps(1) infinite;\n",
              "  }\n",
              "\n",
              "  @keyframes spin {\n",
              "    0% {\n",
              "      border-color: transparent;\n",
              "      border-bottom-color: var(--fill-color);\n",
              "      border-left-color: var(--fill-color);\n",
              "    }\n",
              "    20% {\n",
              "      border-color: transparent;\n",
              "      border-left-color: var(--fill-color);\n",
              "      border-top-color: var(--fill-color);\n",
              "    }\n",
              "    30% {\n",
              "      border-color: transparent;\n",
              "      border-left-color: var(--fill-color);\n",
              "      border-top-color: var(--fill-color);\n",
              "      border-right-color: var(--fill-color);\n",
              "    }\n",
              "    40% {\n",
              "      border-color: transparent;\n",
              "      border-right-color: var(--fill-color);\n",
              "      border-top-color: var(--fill-color);\n",
              "    }\n",
              "    60% {\n",
              "      border-color: transparent;\n",
              "      border-right-color: var(--fill-color);\n",
              "    }\n",
              "    80% {\n",
              "      border-color: transparent;\n",
              "      border-right-color: var(--fill-color);\n",
              "      border-bottom-color: var(--fill-color);\n",
              "    }\n",
              "    90% {\n",
              "      border-color: transparent;\n",
              "      border-bottom-color: var(--fill-color);\n",
              "    }\n",
              "  }\n",
              "</style>\n",
              "\n",
              "  <script>\n",
              "    async function quickchart(key) {\n",
              "      const quickchartButtonEl =\n",
              "        document.querySelector('#' + key + ' button');\n",
              "      quickchartButtonEl.disabled = true;  // To prevent multiple clicks.\n",
              "      quickchartButtonEl.classList.add('colab-df-spinner');\n",
              "      try {\n",
              "        const charts = await google.colab.kernel.invokeFunction(\n",
              "            'suggestCharts', [key], {});\n",
              "      } catch (error) {\n",
              "        console.error('Error during call to suggestCharts:', error);\n",
              "      }\n",
              "      quickchartButtonEl.classList.remove('colab-df-spinner');\n",
              "      quickchartButtonEl.classList.add('colab-df-quickchart-complete');\n",
              "    }\n",
              "    (() => {\n",
              "      let quickchartButtonEl =\n",
              "        document.querySelector('#df-7ff33282-1b2d-434e-9cfc-a70b7305cfac button');\n",
              "      quickchartButtonEl.style.display =\n",
              "        google.colab.kernel.accessAllowed ? 'block' : 'none';\n",
              "    })();\n",
              "  </script>\n",
              "</div>\n",
              "    </div>\n",
              "  </div>\n"
            ]
          },
          "metadata": {},
          "execution_count": 388
        }
      ],
      "source": [
        "df.head()"
      ]
    },
    {
      "cell_type": "code",
      "execution_count": 389,
      "metadata": {
        "colab": {
          "base_uri": "https://localhost:8080/",
          "height": 238
        },
        "id": "7PGSHnBhImhf",
        "outputId": "48edce16-3b51-407c-c352-f7b954a8f01c"
      },
      "outputs": [
        {
          "output_type": "execute_result",
          "data": {
            "text/plain": [
              "                    Open          High           Low         Close  \\\n",
              "Date                                                                 \n",
              "2023-10-23  19521.599609  19556.849609  19257.849609  19281.750000   \n",
              "2023-10-25  19286.449219  19347.300781  19074.150391  19122.150391   \n",
              "2023-10-26  19027.250000  19041.699219  18837.849609  18857.250000   \n",
              "2023-10-27  18928.750000  19076.150391  18926.650391  19047.250000   \n",
              "2023-10-30  19053.400391  19158.500000  18940.000000  19140.900391   \n",
              "\n",
              "               Adj Close  Volume  \n",
              "Date                              \n",
              "2023-10-23  19281.750000  176000  \n",
              "2023-10-25  19122.150391  225300  \n",
              "2023-10-26  18857.250000  300400  \n",
              "2023-10-27  19047.250000  205200  \n",
              "2023-10-30  19140.900391  180100  "
            ],
            "text/html": [
              "\n",
              "  <div id=\"df-15e0e581-a9b3-4eb6-9151-52d32dfbfa72\" class=\"colab-df-container\">\n",
              "    <div>\n",
              "<style scoped>\n",
              "    .dataframe tbody tr th:only-of-type {\n",
              "        vertical-align: middle;\n",
              "    }\n",
              "\n",
              "    .dataframe tbody tr th {\n",
              "        vertical-align: top;\n",
              "    }\n",
              "\n",
              "    .dataframe thead th {\n",
              "        text-align: right;\n",
              "    }\n",
              "</style>\n",
              "<table border=\"1\" class=\"dataframe\">\n",
              "  <thead>\n",
              "    <tr style=\"text-align: right;\">\n",
              "      <th></th>\n",
              "      <th>Open</th>\n",
              "      <th>High</th>\n",
              "      <th>Low</th>\n",
              "      <th>Close</th>\n",
              "      <th>Adj Close</th>\n",
              "      <th>Volume</th>\n",
              "    </tr>\n",
              "    <tr>\n",
              "      <th>Date</th>\n",
              "      <th></th>\n",
              "      <th></th>\n",
              "      <th></th>\n",
              "      <th></th>\n",
              "      <th></th>\n",
              "      <th></th>\n",
              "    </tr>\n",
              "  </thead>\n",
              "  <tbody>\n",
              "    <tr>\n",
              "      <th>2023-10-23</th>\n",
              "      <td>19521.599609</td>\n",
              "      <td>19556.849609</td>\n",
              "      <td>19257.849609</td>\n",
              "      <td>19281.750000</td>\n",
              "      <td>19281.750000</td>\n",
              "      <td>176000</td>\n",
              "    </tr>\n",
              "    <tr>\n",
              "      <th>2023-10-25</th>\n",
              "      <td>19286.449219</td>\n",
              "      <td>19347.300781</td>\n",
              "      <td>19074.150391</td>\n",
              "      <td>19122.150391</td>\n",
              "      <td>19122.150391</td>\n",
              "      <td>225300</td>\n",
              "    </tr>\n",
              "    <tr>\n",
              "      <th>2023-10-26</th>\n",
              "      <td>19027.250000</td>\n",
              "      <td>19041.699219</td>\n",
              "      <td>18837.849609</td>\n",
              "      <td>18857.250000</td>\n",
              "      <td>18857.250000</td>\n",
              "      <td>300400</td>\n",
              "    </tr>\n",
              "    <tr>\n",
              "      <th>2023-10-27</th>\n",
              "      <td>18928.750000</td>\n",
              "      <td>19076.150391</td>\n",
              "      <td>18926.650391</td>\n",
              "      <td>19047.250000</td>\n",
              "      <td>19047.250000</td>\n",
              "      <td>205200</td>\n",
              "    </tr>\n",
              "    <tr>\n",
              "      <th>2023-10-30</th>\n",
              "      <td>19053.400391</td>\n",
              "      <td>19158.500000</td>\n",
              "      <td>18940.000000</td>\n",
              "      <td>19140.900391</td>\n",
              "      <td>19140.900391</td>\n",
              "      <td>180100</td>\n",
              "    </tr>\n",
              "  </tbody>\n",
              "</table>\n",
              "</div>\n",
              "    <div class=\"colab-df-buttons\">\n",
              "\n",
              "  <div class=\"colab-df-container\">\n",
              "    <button class=\"colab-df-convert\" onclick=\"convertToInteractive('df-15e0e581-a9b3-4eb6-9151-52d32dfbfa72')\"\n",
              "            title=\"Convert this dataframe to an interactive table.\"\n",
              "            style=\"display:none;\">\n",
              "\n",
              "  <svg xmlns=\"http://www.w3.org/2000/svg\" height=\"24px\" viewBox=\"0 -960 960 960\">\n",
              "    <path d=\"M120-120v-720h720v720H120Zm60-500h600v-160H180v160Zm220 220h160v-160H400v160Zm0 220h160v-160H400v160ZM180-400h160v-160H180v160Zm440 0h160v-160H620v160ZM180-180h160v-160H180v160Zm440 0h160v-160H620v160Z\"/>\n",
              "  </svg>\n",
              "    </button>\n",
              "\n",
              "  <style>\n",
              "    .colab-df-container {\n",
              "      display:flex;\n",
              "      gap: 12px;\n",
              "    }\n",
              "\n",
              "    .colab-df-convert {\n",
              "      background-color: #E8F0FE;\n",
              "      border: none;\n",
              "      border-radius: 50%;\n",
              "      cursor: pointer;\n",
              "      display: none;\n",
              "      fill: #1967D2;\n",
              "      height: 32px;\n",
              "      padding: 0 0 0 0;\n",
              "      width: 32px;\n",
              "    }\n",
              "\n",
              "    .colab-df-convert:hover {\n",
              "      background-color: #E2EBFA;\n",
              "      box-shadow: 0px 1px 2px rgba(60, 64, 67, 0.3), 0px 1px 3px 1px rgba(60, 64, 67, 0.15);\n",
              "      fill: #174EA6;\n",
              "    }\n",
              "\n",
              "    .colab-df-buttons div {\n",
              "      margin-bottom: 4px;\n",
              "    }\n",
              "\n",
              "    [theme=dark] .colab-df-convert {\n",
              "      background-color: #3B4455;\n",
              "      fill: #D2E3FC;\n",
              "    }\n",
              "\n",
              "    [theme=dark] .colab-df-convert:hover {\n",
              "      background-color: #434B5C;\n",
              "      box-shadow: 0px 1px 3px 1px rgba(0, 0, 0, 0.15);\n",
              "      filter: drop-shadow(0px 1px 2px rgba(0, 0, 0, 0.3));\n",
              "      fill: #FFFFFF;\n",
              "    }\n",
              "  </style>\n",
              "\n",
              "    <script>\n",
              "      const buttonEl =\n",
              "        document.querySelector('#df-15e0e581-a9b3-4eb6-9151-52d32dfbfa72 button.colab-df-convert');\n",
              "      buttonEl.style.display =\n",
              "        google.colab.kernel.accessAllowed ? 'block' : 'none';\n",
              "\n",
              "      async function convertToInteractive(key) {\n",
              "        const element = document.querySelector('#df-15e0e581-a9b3-4eb6-9151-52d32dfbfa72');\n",
              "        const dataTable =\n",
              "          await google.colab.kernel.invokeFunction('convertToInteractive',\n",
              "                                                    [key], {});\n",
              "        if (!dataTable) return;\n",
              "\n",
              "        const docLinkHtml = 'Like what you see? Visit the ' +\n",
              "          '<a target=\"_blank\" href=https://colab.research.google.com/notebooks/data_table.ipynb>data table notebook</a>'\n",
              "          + ' to learn more about interactive tables.';\n",
              "        element.innerHTML = '';\n",
              "        dataTable['output_type'] = 'display_data';\n",
              "        await google.colab.output.renderOutput(dataTable, element);\n",
              "        const docLink = document.createElement('div');\n",
              "        docLink.innerHTML = docLinkHtml;\n",
              "        element.appendChild(docLink);\n",
              "      }\n",
              "    </script>\n",
              "  </div>\n",
              "\n",
              "\n",
              "<div id=\"df-d5e0e967-5db1-4f59-adaf-b2abb2e583d6\">\n",
              "  <button class=\"colab-df-quickchart\" onclick=\"quickchart('df-d5e0e967-5db1-4f59-adaf-b2abb2e583d6')\"\n",
              "            title=\"Suggest charts\"\n",
              "            style=\"display:none;\">\n",
              "\n",
              "<svg xmlns=\"http://www.w3.org/2000/svg\" height=\"24px\"viewBox=\"0 0 24 24\"\n",
              "     width=\"24px\">\n",
              "    <g>\n",
              "        <path d=\"M19 3H5c-1.1 0-2 .9-2 2v14c0 1.1.9 2 2 2h14c1.1 0 2-.9 2-2V5c0-1.1-.9-2-2-2zM9 17H7v-7h2v7zm4 0h-2V7h2v10zm4 0h-2v-4h2v4z\"/>\n",
              "    </g>\n",
              "</svg>\n",
              "  </button>\n",
              "\n",
              "<style>\n",
              "  .colab-df-quickchart {\n",
              "      --bg-color: #E8F0FE;\n",
              "      --fill-color: #1967D2;\n",
              "      --hover-bg-color: #E2EBFA;\n",
              "      --hover-fill-color: #174EA6;\n",
              "      --disabled-fill-color: #AAA;\n",
              "      --disabled-bg-color: #DDD;\n",
              "  }\n",
              "\n",
              "  [theme=dark] .colab-df-quickchart {\n",
              "      --bg-color: #3B4455;\n",
              "      --fill-color: #D2E3FC;\n",
              "      --hover-bg-color: #434B5C;\n",
              "      --hover-fill-color: #FFFFFF;\n",
              "      --disabled-bg-color: #3B4455;\n",
              "      --disabled-fill-color: #666;\n",
              "  }\n",
              "\n",
              "  .colab-df-quickchart {\n",
              "    background-color: var(--bg-color);\n",
              "    border: none;\n",
              "    border-radius: 50%;\n",
              "    cursor: pointer;\n",
              "    display: none;\n",
              "    fill: var(--fill-color);\n",
              "    height: 32px;\n",
              "    padding: 0;\n",
              "    width: 32px;\n",
              "  }\n",
              "\n",
              "  .colab-df-quickchart:hover {\n",
              "    background-color: var(--hover-bg-color);\n",
              "    box-shadow: 0 1px 2px rgba(60, 64, 67, 0.3), 0 1px 3px 1px rgba(60, 64, 67, 0.15);\n",
              "    fill: var(--button-hover-fill-color);\n",
              "  }\n",
              "\n",
              "  .colab-df-quickchart-complete:disabled,\n",
              "  .colab-df-quickchart-complete:disabled:hover {\n",
              "    background-color: var(--disabled-bg-color);\n",
              "    fill: var(--disabled-fill-color);\n",
              "    box-shadow: none;\n",
              "  }\n",
              "\n",
              "  .colab-df-spinner {\n",
              "    border: 2px solid var(--fill-color);\n",
              "    border-color: transparent;\n",
              "    border-bottom-color: var(--fill-color);\n",
              "    animation:\n",
              "      spin 1s steps(1) infinite;\n",
              "  }\n",
              "\n",
              "  @keyframes spin {\n",
              "    0% {\n",
              "      border-color: transparent;\n",
              "      border-bottom-color: var(--fill-color);\n",
              "      border-left-color: var(--fill-color);\n",
              "    }\n",
              "    20% {\n",
              "      border-color: transparent;\n",
              "      border-left-color: var(--fill-color);\n",
              "      border-top-color: var(--fill-color);\n",
              "    }\n",
              "    30% {\n",
              "      border-color: transparent;\n",
              "      border-left-color: var(--fill-color);\n",
              "      border-top-color: var(--fill-color);\n",
              "      border-right-color: var(--fill-color);\n",
              "    }\n",
              "    40% {\n",
              "      border-color: transparent;\n",
              "      border-right-color: var(--fill-color);\n",
              "      border-top-color: var(--fill-color);\n",
              "    }\n",
              "    60% {\n",
              "      border-color: transparent;\n",
              "      border-right-color: var(--fill-color);\n",
              "    }\n",
              "    80% {\n",
              "      border-color: transparent;\n",
              "      border-right-color: var(--fill-color);\n",
              "      border-bottom-color: var(--fill-color);\n",
              "    }\n",
              "    90% {\n",
              "      border-color: transparent;\n",
              "      border-bottom-color: var(--fill-color);\n",
              "    }\n",
              "  }\n",
              "</style>\n",
              "\n",
              "  <script>\n",
              "    async function quickchart(key) {\n",
              "      const quickchartButtonEl =\n",
              "        document.querySelector('#' + key + ' button');\n",
              "      quickchartButtonEl.disabled = true;  // To prevent multiple clicks.\n",
              "      quickchartButtonEl.classList.add('colab-df-spinner');\n",
              "      try {\n",
              "        const charts = await google.colab.kernel.invokeFunction(\n",
              "            'suggestCharts', [key], {});\n",
              "      } catch (error) {\n",
              "        console.error('Error during call to suggestCharts:', error);\n",
              "      }\n",
              "      quickchartButtonEl.classList.remove('colab-df-spinner');\n",
              "      quickchartButtonEl.classList.add('colab-df-quickchart-complete');\n",
              "    }\n",
              "    (() => {\n",
              "      let quickchartButtonEl =\n",
              "        document.querySelector('#df-d5e0e967-5db1-4f59-adaf-b2abb2e583d6 button');\n",
              "      quickchartButtonEl.style.display =\n",
              "        google.colab.kernel.accessAllowed ? 'block' : 'none';\n",
              "    })();\n",
              "  </script>\n",
              "</div>\n",
              "    </div>\n",
              "  </div>\n"
            ]
          },
          "metadata": {},
          "execution_count": 389
        }
      ],
      "source": [
        "df.tail()"
      ]
    },
    {
      "cell_type": "code",
      "execution_count": 390,
      "metadata": {
        "id": "lBF0O1XuImhf"
      },
      "outputs": [],
      "source": [
        "df1=df.reset_index()['Close']"
      ]
    },
    {
      "cell_type": "code",
      "execution_count": 391,
      "metadata": {
        "colab": {
          "base_uri": "https://localhost:8080/"
        },
        "id": "nIZZNdNiImhg",
        "outputId": "229be927-49b8-4672-d945-b1a874ff7844"
      },
      "outputs": [
        {
          "output_type": "execute_result",
          "data": {
            "text/plain": [
              "0       10792.500000\n",
              "1       10672.250000\n",
              "2       10727.349609\n",
              "3       10771.799805\n",
              "4       10802.150391\n",
              "            ...     \n",
              "1186    19281.750000\n",
              "1187    19122.150391\n",
              "1188    18857.250000\n",
              "1189    19047.250000\n",
              "1190    19140.900391\n",
              "Name: Close, Length: 1191, dtype: float64"
            ]
          },
          "metadata": {},
          "execution_count": 391
        }
      ],
      "source": [
        "df1"
      ]
    },
    {
      "cell_type": "code",
      "execution_count": 420,
      "metadata": {
        "colab": {
          "base_uri": "https://localhost:8080/",
          "height": 564
        },
        "id": "Kb0tNPB2Imhg",
        "outputId": "05d35ddf-8813-4148-ad51-cd340759a990"
      },
      "outputs": [
        {
          "output_type": "display_data",
          "data": {
            "text/plain": [
              "<Figure size 1000x600 with 1 Axes>"
            ],
            "image/png": "[encoded data removed]"
          },
          "metadata": {}
        }
      ],
      "source": [
        "import matplotlib.pyplot as plt\n",
        "# plt.plot(df1, label='NIFTY Price')\n",
        "#  Price Plotting\n",
        "plt.figure(figsize=(10, 6))\n",
        "plt.plot(df['Close'], label='NIFTY Price')\n",
        "plt.xlabel('Date')\n",
        "plt.ylabel('NIFTY Price')\n",
        "plt.title('NIFTY Price from 01/01/2019 to 31/10/2023')\n",
        "plt.legend()\n",
        "plt.grid(True)\n",
        "plt.show()"
      ]
    },
    {
      "cell_type": "markdown",
      "source": [
        "LSTM are sensitive to the scale of the data. so we apply MinMax scaler"
      ],
      "metadata": {
        "id": "kMDD8fifUy0v"
      }
    },
    {
      "cell_type": "code",
      "execution_count": 393,
      "metadata": {
        "id": "XYB8WkK8Imhi"
      },
      "outputs": [],
      "source": [
        "from sklearn.preprocessing import MinMaxScaler\n",
        "scaler=MinMaxScaler(feature_range=(0,1))\n",
        "df1=scaler.fit_transform(np.array(df1).reshape(-1,1))"
      ]
    },
    {
      "cell_type": "code",
      "execution_count": 394,
      "metadata": {
        "id": "wMtxtMm3Imhi"
      },
      "outputs": [],
      "source": [
        "# print(df1)"
      ]
    },
    {
      "cell_type": "code",
      "execution_count": 395,
      "metadata": {
        "id": "uXSjqwpuImhi"
      },
      "outputs": [],
      "source": [
        "##splitting dataset into train and test split\n",
        "training_size=int(len(df1)*0.80)\n",
        "test_size=len(df1)-training_size\n",
        "train_data,test_data=df1[0:training_size,:],df1[training_size:len(df1),:1]"
      ]
    },
    {
      "cell_type": "code",
      "execution_count": 396,
      "metadata": {
        "colab": {
          "base_uri": "https://localhost:8080/"
        },
        "id": "VfmMbxj6Imhj",
        "outputId": "bf95362f-3c10-41e4-cfa0-2a574040f9a4"
      },
      "outputs": [
        {
          "output_type": "execute_result",
          "data": {
            "text/plain": [
              "(952, 239)"
            ]
          },
          "metadata": {},
          "execution_count": 396
        }
      ],
      "source": [
        "training_size,test_size"
      ]
    },
    {
      "cell_type": "code",
      "execution_count": 397,
      "metadata": {
        "id": "kY1MUCHZImhk"
      },
      "outputs": [],
      "source": [
        "import numpy\n",
        "# convert an array of values into a dataset matrix\n",
        "def create_dataset(dataset, time_step=1):\n",
        "\tdataX, dataY = [], []\n",
        "\tfor i in range(len(dataset)-time_step-1):\n",
        "\t\ta = dataset[i:(i+time_step), 0]   ###i=0, 0,1,2,3-----99   100\n",
        "\t\tdataX.append(a)\n",
        "\t\tdataY.append(dataset[i + time_step, 0])\n",
        "\treturn numpy.array(dataX), numpy.array(dataY)"
      ]
    },
    {
      "cell_type": "code",
      "execution_count": 398,
      "metadata": {
        "id": "2_WvRQ34Imhl"
      },
      "outputs": [],
      "source": [
        "# reshape into X=t,t+1,t+2,t+3,t+4------t+99 and Y=t+100\n",
        "# In 1st row it contains 99 days closing price and in the target 100th day price\n",
        "time_step = 20\n",
        "X_train, y_train = create_dataset(train_data, time_step)\n",
        "X_test, y_test = create_dataset(test_data, time_step)"
      ]
    },
    {
      "cell_type": "code",
      "execution_count": 399,
      "metadata": {
        "colab": {
          "base_uri": "https://localhost:8080/"
        },
        "id": "r9KxKOgGImhl",
        "outputId": "f6e2a285-6977-4afb-a103-909d2f97ccb1"
      },
      "outputs": [
        {
          "output_type": "stream",
          "name": "stdout",
          "text": [
            "(931, 20)\n",
            "(931,)\n"
          ]
        },
        {
          "output_type": "execute_result",
          "data": {
            "text/plain": [
              "(None, None)"
            ]
          },
          "metadata": {},
          "execution_count": 399
        }
      ],
      "source": [
        "print(X_train.shape), print(y_train.shape)"
      ]
    },
    {
      "cell_type": "code",
      "execution_count": 400,
      "metadata": {
        "colab": {
          "base_uri": "https://localhost:8080/"
        },
        "id": "Ptk0MGUqImhm",
        "outputId": "fe2abaae-654d-4090-cc9a-e7b1b1602ecf"
      },
      "outputs": [
        {
          "output_type": "stream",
          "name": "stdout",
          "text": [
            "(218, 20)\n",
            "(218,)\n"
          ]
        },
        {
          "output_type": "execute_result",
          "data": {
            "text/plain": [
              "(None, None)"
            ]
          },
          "metadata": {},
          "execution_count": 400
        }
      ],
      "source": [
        "print(X_test.shape), print(y_test.shape)"
      ]
    },
    {
      "cell_type": "code",
      "source": [
        "X_train"
      ],
      "metadata": {
        "colab": {
          "base_uri": "https://localhost:8080/"
        },
        "id": "CgzKRwfKLicL",
        "outputId": "b5ba5feb-bc78-406a-86ca-3d88e6fa600f"
      },
      "execution_count": 401,
      "outputs": [
        {
          "output_type": "execute_result",
          "data": {
            "text/plain": [
              "array([[0.25291884, 0.24336161, 0.24774081, ..., 0.25196906, 0.24251118,\n",
              "        0.24176809],\n",
              "       [0.24336161, 0.24774081, 0.25127363, ..., 0.24251118, 0.24176809,\n",
              "        0.24173627],\n",
              "       [0.24774081, 0.25127363, 0.25368583, ..., 0.24176809, 0.24173627,\n",
              "        0.25597478],\n",
              "       ...,\n",
              "       [0.77128625, 0.76543266, 0.74497112, ..., 0.83234118, 0.82994489,\n",
              "        0.83506734],\n",
              "       [0.76543266, 0.74497112, 0.75610192, ..., 0.82994489, 0.83506734,\n",
              "        0.84187466],\n",
              "       [0.74497112, 0.75610192, 0.74741894, ..., 0.83506734, 0.84187466,\n",
              "        0.8382345 ]])"
            ]
          },
          "metadata": {},
          "execution_count": 401
        }
      ]
    },
    {
      "cell_type": "code",
      "source": [
        "y_train"
      ],
      "metadata": {
        "colab": {
          "base_uri": "https://localhost:8080/"
        },
        "id": "QyJIwZbaMCVI",
        "outputId": "738e4fe5-83fa-42c6-c267-3cc4740da0cb"
      },
      "execution_count": 402,
      "outputs": [
        {
          "output_type": "execute_result",
          "data": {
            "text/plain": [
              "array([0.24173627, 0.25597478, 0.26095807, 0.26243633, 0.26419276,\n",
              "       0.27437394, 0.27492632, 0.26492793, 0.26057255, 0.25601056,\n",
              "       0.24922707, 0.24750642, 0.24087396, 0.23796502, 0.24838463,\n",
              "       0.25270819, 0.25285131, 0.25988108, 0.25632048, 0.25404348,\n",
              "       0.25291884, 0.25856177, 0.26841309, 0.27362285, 0.27403615,\n",
              "       0.27222407, 0.28276678, 0.29334931, 0.29656817, 0.29669134,\n",
              "       0.30333567, 0.30614526, 0.31172463, 0.31082251, 0.30572405,\n",
              "       0.2975656 , 0.30781826, 0.30478218, 0.31471298, 0.32259325,\n",
              "       0.32609424, 0.32059039, 0.31693836, 0.3223389 , 0.31745497,\n",
              "       0.32281577, 0.31584949, 0.31683505, 0.32055065, 0.32427812,\n",
              "       0.33197165, 0.32924154, 0.31665623, 0.31518588, 0.32712349,\n",
              "       0.32041948, 0.32938862, 0.32887201, 0.32701219, 0.32601872,\n",
              "       0.31695823, 0.30898264, 0.2979789 , 0.29339696, 0.29157696,\n",
              "       0.28118917, 0.28705859, 0.28188856, 0.28984428, 0.30177002,\n",
              "       0.33523817, 0.32576833, 0.32805736, 0.32163152, 0.33649786,\n",
              "       0.34290779, 0.3432257 , 0.33784899, 0.34458878, 0.34275279,\n",
              "       0.35592627, 0.35060924, 0.33647008, 0.33860806, 0.34274488,\n",
              "       0.34615444, 0.34143349, 0.34205736, 0.33484473, 0.32283168,\n",
              "       0.32436955, 0.32436559, 0.33551634, 0.3269605 , 0.32501733,\n",
              "       0.33271078, 0.33677208, 0.33629521, 0.3321067 , 0.33820664,\n",
              "       0.34175932, 0.34227197, 0.34465631, 0.33387912, 0.31380689,\n",
              "       0.31359237, 0.30906212, 0.31573827, 0.31332211, 0.31617137,\n",
              "       0.32207261, 0.32405164, 0.31685096, 0.30273167, 0.29692582,\n",
              "       0.29572169, 0.29097288, 0.28945093, 0.2920061 , 0.28444777,\n",
              "       0.27619797, 0.27878892, 0.26782096, 0.26919987, 0.25849021,\n",
              "       0.26529753, 0.25792595, 0.2719896 , 0.27812531, 0.2635172 ,\n",
              "       0.2717472 , 0.27320955, 0.27369441, 0.27076165, 0.26294897,\n",
              "       0.24885351, 0.25584757, 0.27400829, 0.2777835 , 0.27307442,\n",
              "       0.26530149, 0.27125838, 0.25334805, 0.25706365, 0.25732195,\n",
              "       0.26513462, 0.26965291, 0.2722479 , 0.26804348, 0.27544293,\n",
              "       0.26968869, 0.2549137 , 0.25674573, 0.2459486 , 0.2912034 ,\n",
              "       0.31711323, 0.31615949, 0.30439675, 0.31480836, 0.31013507,\n",
              "       0.30711887, 0.29801468, 0.29436661, 0.2832993 , 0.27945657,\n",
              "       0.29431096, 0.28805207, 0.29365527, 0.29652447, 0.30345093,\n",
              "       0.30628831, 0.31601241, 0.322013  , 0.31617137, 0.31742314,\n",
              "       0.31571437, 0.31581775, 0.33194775, 0.33649786, 0.3391485 ,\n",
              "       0.34019359, 0.34422314, 0.34230775, 0.34619022, 0.34984621,\n",
              "       0.34158849, 0.34200971, 0.33620781, 0.33872325, 0.3405791 ,\n",
              "       0.3397088 , 0.34412775, 0.34881695, 0.34637704, 0.34208523,\n",
              "       0.35475001, 0.35188485, 0.35689196, 0.36090164, 0.35334324,\n",
              "       0.35271937, 0.34842755, 0.35232198, 0.35035094, 0.34264949,\n",
              "       0.34392114, 0.33750725, 0.34174744, 0.34664722, 0.35577927,\n",
              "       0.35317636, 0.36200238, 0.36650484, 0.36952896, 0.37049061,\n",
              "       0.36977135, 0.3659405 , 0.35894644, 0.36842419, 0.36922292,\n",
              "       0.36227659, 0.36339324, 0.37131722, 0.36690223, 0.34833612,\n",
              "       0.35309689, 0.35090325, 0.36604784, 0.36929844, 0.37508047,\n",
              "       0.37768337, 0.37617329, 0.37714294, 0.37689255, 0.36673528,\n",
              "       0.36238782, 0.35738474, 0.36322234, 0.36861892, 0.35834639,\n",
              "       0.35332337, 0.35918091, 0.35173381, 0.34587626, 0.32567302,\n",
              "       0.34727117, 0.35597401, 0.35985252, 0.35670514, 0.35139207,\n",
              "       0.35746422, 0.3648795 , 0.36276937, 0.3579053 , 0.35252859,\n",
              "       0.34829243, 0.35889482, 0.35531428, 0.3353296 , 0.33282604,\n",
              "       0.32333634, 0.31974392, 0.2854452 , 0.27996122, 0.29351618,\n",
              "       0.2893595 , 0.2907901 , 0.26857204, 0.22581288, 0.22636527,\n",
              "       0.15735851, 0.18637193, 0.12614352, 0.10783572, 0.06823581,\n",
              "       0.05191504, 0.09022343, 0.        , 0.01516439, 0.0562386 ,\n",
              "       0.08195772, 0.08345189, 0.05331778, 0.07848452, 0.05114805,\n",
              "       0.03763679, 0.09393903, 0.09048569, 0.11934816, 0.10996572,\n",
              "       0.10451752, 0.10988228, 0.13165529, 0.13126582, 0.10898024,\n",
              "       0.12534075, 0.13540271, 0.12272597, 0.13289116, 0.14072774,\n",
              "       0.15443365, 0.17879769, 0.13378133, 0.12679518, 0.13198516,\n",
              "       0.12627462, 0.13044325, 0.12946569, 0.12607592, 0.14093831,\n",
              "       0.12180002, 0.12133107, 0.0964068 , 0.10084562, 0.11574378,\n",
              "       0.11889907, 0.11357405, 0.11276336, 0.13548615, 0.14940667,\n",
              "       0.1565756 , 0.17611531, 0.18827141, 0.19482438, 0.19224531,\n",
              "       0.20123036, 0.20324113, 0.19364021, 0.19916393, 0.18214369,\n",
              "       0.18777871, 0.17512579, 0.18309742, 0.1804866 , 0.19721672,\n",
              "       0.20935698, 0.2146661 , 0.22736666, 0.21419714, 0.21289375,\n",
              "       0.2203726 , 0.21476148, 0.2139428 , 0.22411202, 0.23378055,\n",
              "       0.23820346, 0.25062593, 0.25348714, 0.24602412, 0.25458392,\n",
              "       0.25097558, 0.25372953, 0.23820346, 0.23906584, 0.24874228,\n",
              "       0.26159785, 0.27117495, 0.28230582, 0.27994927, 0.28653407,\n",
              "       0.2848412 , 0.2798857 , 0.29329761, 0.2855326 , 0.27752923,\n",
              "       0.27524819, 0.26079507, 0.2769808 , 0.27748949, 0.28531807,\n",
              "       0.28642277, 0.29088153, 0.29504217, 0.29392156, 0.2932897 ,\n",
              "       0.28358942, 0.2890495 , 0.30003733, 0.30186936, 0.29422356,\n",
              "       0.29894451, 0.30648304, 0.306944  , 0.31309159, 0.31385859,\n",
              "       0.32088044, 0.30020824, 0.30678505, 0.31193125, 0.3113312 ,\n",
              "       0.29594422, 0.29762917, 0.29463283, 0.2915054 , 0.30511601,\n",
              "       0.30632409, 0.30438479, 0.31088212, 0.31745892, 0.31042908,\n",
              "       0.30954295, 0.28932372, 0.28162234, 0.27988966, 0.25395601,\n",
              "       0.27340429, 0.28749572, 0.28708646, 0.28908528, 0.30254888,\n",
              "       0.30941574, 0.32205677, 0.3281328 , 0.33574282, 0.34206932,\n",
              "       0.34340057, 0.3436827 , 0.34658761, 0.32348334, 0.33000853,\n",
              "       0.33879876, 0.34068637, 0.34393309, 0.34065858, 0.34335284,\n",
              "       0.33042975, 0.34009828, 0.32739763, 0.32272434, 0.32046721,\n",
              "       0.32259325, 0.33406587, 0.34161627, 0.3584497 , 0.36983492,\n",
              "       0.38553182, 0.39904704, 0.40842948, 0.40379189, 0.40610871,\n",
              "       0.41836819, 0.42345874, 0.41022169, 0.41716406, 0.42252091,\n",
              "       0.43274974, 0.41711245, 0.42733329, 0.42589873, 0.43703356,\n",
              "       0.43740712, 0.43900864, 0.44891552, 0.4566408 , 0.45959739,\n",
              "       0.47041828, 0.46638081, 0.46920624, 0.47272717, 0.47349805,\n",
              "       0.48262614, 0.48723587, 0.48881347, 0.45446711, 0.46542707,\n",
              "       0.47614069, 0.48791539, 0.4977667 , 0.50248765, 0.50640993,\n",
              "       0.50639402, 0.50931484, 0.51840715, 0.52370035, 0.51946815,\n",
              "       0.51876076, 0.53544323, 0.54637145, 0.55262638, 0.55273761,\n",
              "       0.55518155, 0.54231411, 0.53020164, 0.54926448, 0.55908397,\n",
              "       0.55476429, 0.53740239, 0.52683182, 0.50526146, 0.49334372,\n",
              "       0.4788032 , 0.53019372, 0.55933428, 0.57062815, 0.57902899,\n",
              "       0.58130203, 0.59652602, 0.59600941, 0.59578689, 0.601096  ,\n",
              "       0.60030122, 0.61233422, 0.61223488, 0.60392547, 0.59677641,\n",
              "       0.58587201, 0.56154779, 0.564099  , 0.58589188, 0.59505964,\n",
              "       0.5499003 , 0.56837094, 0.58089268, 0.60684225, 0.59374033,\n",
              "       0.58240277, 0.58384136, 0.59514315, 0.60121522, 0.58978234,\n",
              "       0.58171929, 0.58020525, 0.56517195, 0.55218126, 0.56697612,\n",
              "       0.56637212, 0.57259919, 0.55150973, 0.53366692, 0.54816366,\n",
              "       0.57501131, 0.56273996, 0.5767797 , 0.55853554, 0.5621677 ,\n",
              "       0.57294093, 0.57729235, 0.57419666, 0.53254624, 0.54796497,\n",
              "       0.55405699, 0.55694994, 0.53641287, 0.5314018 , 0.54012451,\n",
              "       0.53497427, 0.54639132, 0.55974758, 0.57655717, 0.57896938,\n",
              "       0.55800302, 0.55824549, 0.54730532, 0.55694994, 0.56545013,\n",
              "       0.57326683, 0.58274055, 0.57546039, 0.56320091, 0.56171466,\n",
              "       0.58121463, 0.59591402, 0.58971878, 0.57985551, 0.60125496,\n",
              "       0.6030353 , 0.60388969, 0.61128114, 0.61417409, 0.6219471 ,\n",
              "       0.63364224, 0.63301038, 0.63311772, 0.64219008, 0.64059261,\n",
              "       0.64706215, 0.64614411, 0.63781879, 0.64595737, 0.65085319,\n",
              "       0.65184666, 0.65640873, 0.6483258 , 0.6422736 , 0.64163374,\n",
              "       0.6466528 , 0.6487391 , 0.64191991, 0.65014588, 0.65570134,\n",
              "       0.65207322, 0.6468078 , 0.64466585, 0.64136752, 0.6447215 ,\n",
              "       0.65363492, 0.65235535, 0.65723533, 0.64517455, 0.64214639,\n",
              "       0.64236891, 0.6518864 , 0.65519273, 0.66077606, 0.66071249,\n",
              "       0.64712176, 0.63756049, 0.65281631, 0.6553596 , 0.65284813,\n",
              "       0.64664885, 0.6437042 , 0.64919214, 0.64796815, 0.65767246,\n",
              "       0.67719222, 0.68736936, 0.69021466, 0.68573215, 0.68732567,\n",
              "       0.68906223, 0.68923314, 0.69576229, 0.70885225, 0.71155062,\n",
              "       0.71564762, 0.7120115 , 0.70260531, 0.70625726, 0.7164424 ,\n",
              "       0.71724121, 0.71742004, 0.72284829, 0.74079852, 0.75678539,\n",
              "       0.75233866, 0.76488827, 0.77199751, 0.77630531, 0.77505742,\n",
              "       0.77437394, 0.77562571, 0.77451706, 0.7764801 , 0.78756325,\n",
              "       0.79630986, 0.79278504, 0.77782331, 0.7909451 , 0.78972514,\n",
              "       0.81168482, 0.81408903, 0.81424007, 0.80577566, 0.80281122,\n",
              "       0.79540782, 0.78856479, 0.80121763, 0.81163328, 0.79762125,\n",
              "       0.80909387, 0.8174271 , 0.82146061, 0.8251166 , 0.83861202,\n",
              "       0.85266379, 0.8636715 , 0.85903787, 0.84694526, 0.83991146,\n",
              "       0.83488851, 0.83572303, 0.84708838, 0.84252228, 0.81441097,\n",
              "       0.79965989, 0.82016521, 0.81693036, 0.81218155, 0.81914395,\n",
              "       0.83120474, 0.82927336, 0.82712342, 0.81571041, 0.83392282,\n",
              "       0.83445526, 0.82569281, 0.81770139, 0.8070633 , 0.77938509,\n",
              "       0.78628368, 0.77926587, 0.78889854, 0.7483806 , 0.75056624,\n",
              "       0.74494317, 0.75954337, 0.77820083, 0.76191173, 0.73930427,\n",
              "       0.76032217, 0.78361325, 0.78735663, 0.78691563, 0.77554624,\n",
              "       0.7721009 , 0.76387492, 0.76602083, 0.74510213, 0.7156158 ,\n",
              "       0.72806605, 0.74273766, 0.75204854, 0.74657651, 0.75313344,\n",
              "       0.76481671, 0.76325493, 0.76248794, 0.77441771, 0.79600778,\n",
              "       0.81027812, 0.81981548, 0.80556113, 0.81087017, 0.8260188 ,\n",
              "       0.83018736, 0.84263358, 0.84624595, 0.84608295, 0.8502436 ,\n",
              "       0.83474151, 0.82086064, 0.80644331, 0.79532834, 0.7581286 ,\n",
              "       0.76836931, 0.755033  , 0.75438119, 0.77328903, 0.79212531,\n",
              "       0.8082713 , 0.79080197, 0.78731302, 0.76325493, 0.76747922,\n",
              "       0.78314042, 0.79443018, 0.77606284, 0.73378459, 0.77429042,\n",
              "       0.77188621, 0.77048743, 0.7682383 , 0.76270262, 0.75360628,\n",
              "       0.75130545, 0.68650706, 0.71912882, 0.72989808, 0.7149601 ,\n",
              "       0.70638455, 0.68630037, 0.65592394, 0.66786947, 0.69424817,\n",
              "       0.71408196, 0.71690731, 0.73604971, 0.71949438, 0.7443193 ,\n",
              "       0.76909269, 0.75562505, 0.77135377, 0.76580227, 0.76398219,\n",
              "       0.7584386 , 0.76392258, 0.77213272, 0.78587838, 0.78321586,\n",
              "       0.79956442, 0.83000061, 0.82237073, 0.8104689 , 0.79710868,\n",
              "       0.808617  , 0.79992207, 0.78842571, 0.7840822 , 0.76007985,\n",
              "       0.74299208, 0.75713125, 0.77748149, 0.75994464, 0.74261844,\n",
              "       0.76223771, 0.74933045, 0.76575461, 0.754429  , 0.75177036,\n",
              "       0.72065473, 0.72105616, 0.6994858 , 0.69079088, 0.68587915,\n",
              "       0.68008122, 0.6515407 , 0.64948623, 0.65426678, 0.6874091 ,\n",
              "       0.68589902, 0.651652  , 0.68795357, 0.68386442, 0.67674718,\n",
              "       0.66885099, 0.68032369, 0.69481251, 0.71936725, 0.7132594 ,\n",
              "       0.7083476 , 0.71671265, 0.71323953, 0.71206723, 0.69989111,\n",
              "       0.69511451, 0.70479887, 0.68283912, 0.64887027, 0.64550829,\n",
              "       0.64233321, 0.61598222, 0.61064927, 0.61515173, 0.63809301,\n",
              "       0.62017072, 0.63156394, 0.64289747, 0.65345213, 0.65489469,\n",
              "       0.65083332, 0.64933519, 0.64709389, 0.65371439, 0.65176718,\n",
              "       0.66598978, 0.67736313, 0.68433329, 0.68396772, 0.67143403,\n",
              "       0.66414992, 0.66192453, 0.67071081, 0.6889351 , 0.69386669,\n",
              "       0.70819656, 0.71490453, 0.72398085, 0.71695109, 0.70525587,\n",
              "       0.71780951, 0.74068318, 0.75885586, 0.77330502, 0.77373408,\n",
              "       0.77712788, 0.77663906, 0.77787097, 0.78801233, 0.78877932,\n",
              "       0.79865446, 0.80176606, 0.81186768, 0.82132556, 0.82229916,\n",
              "       0.80655849, 0.78527825, 0.79217701, 0.79435861, 0.78780168,\n",
              "       0.79069875, 0.77114716, 0.80662617, 0.78941918, 0.78915281,\n",
              "       0.79919497, 0.79838421, 0.79590456, 0.80976151, 0.81251142,\n",
              "       0.82069765, 0.83132395, 0.8260545 , 0.81601249, 0.78846933,\n",
              "       0.79573365, 0.81115238, 0.80337145, 0.79633377, 0.77229556,\n",
              "       0.74757402, 0.74686663, 0.73504025, 0.73182139, 0.75377718,\n",
              "       0.73732524, 0.76807934, 0.77264933, 0.77128625, 0.76543266,\n",
              "       0.74497112, 0.75610192, 0.74741894, 0.76103747, 0.77105977,\n",
              "       0.78498021, 0.78699107, 0.79110002, 0.79208169, 0.80435701,\n",
              "       0.79844381, 0.80484971, 0.80881181, 0.82672603, 0.83731259,\n",
              "       0.83234118, 0.82994489, 0.83506734, 0.84187466, 0.8382345 ,\n",
              "       0.82799767])"
            ]
          },
          "metadata": {},
          "execution_count": 402
        }
      ]
    },
    {
      "cell_type": "code",
      "execution_count": 403,
      "metadata": {
        "id": "29Ow7DbRImhm"
      },
      "outputs": [],
      "source": [
        "# reshape input to be [samples, time steps, features] which is required for LSTM\n",
        "X_train =X_train.reshape(X_train.shape[0],X_train.shape[1] , 1)\n",
        "X_test = X_test.reshape(X_test.shape[0],X_test.shape[1] , 1)"
      ]
    },
    {
      "cell_type": "code",
      "execution_count": 404,
      "metadata": {
        "id": "YDJK65fxImhn"
      },
      "outputs": [],
      "source": [
        "### Create the Stacked LSTM model\n",
        "from tensorflow.keras.models import Sequential\n",
        "from tensorflow.keras.layers import Dense\n",
        "from tensorflow.keras.layers import LSTM"
      ]
    },
    {
      "cell_type": "code",
      "execution_count": 405,
      "metadata": {
        "id": "o_TihdhoImhn"
      },
      "outputs": [],
      "source": [
        "model=Sequential()\n",
        "model.add(LSTM(50,return_sequences=True,input_shape=(20,1)))\n",
        "model.add(LSTM(50,return_sequences=True))\n",
        "model.add(LSTM(50))\n",
        "model.add(Dense(1))\n",
        "model.compile(loss='mean_squared_error',optimizer='adam')"
      ]
    },
    {
      "cell_type": "code",
      "execution_count": 406,
      "metadata": {
        "colab": {
          "base_uri": "https://localhost:8080/"
        },
        "id": "KaVRu15eImho",
        "outputId": "07e37c86-688e-48a0-d391-e06552dd4fc6"
      },
      "outputs": [
        {
          "output_type": "stream",
          "name": "stdout",
          "text": [
            "Model: \"sequential_15\"\n",
            "_________________________________________________________________\n",
            " Layer (type)                Output Shape              Param #   \n",
            "=================================================================\n",
            " lstm_45 (LSTM)              (None, 20, 50)            10400     \n",
            "                                                                 \n",
            " lstm_46 (LSTM)              (None, 20, 50)            20200     \n",
            "                                                                 \n",
            " lstm_47 (LSTM)              (None, 50)                20200     \n",
            "                                                                 \n",
            " dense_15 (Dense)            (None, 1)                 51        \n",
            "                                                                 \n",
            "=================================================================\n",
            "Total params: 50851 (198.64 KB)\n",
            "Trainable params: 50851 (198.64 KB)\n",
            "Non-trainable params: 0 (0.00 Byte)\n",
            "_________________________________________________________________\n"
          ]
        }
      ],
      "source": [
        "model.summary()"
      ]
    },
    {
      "cell_type": "code",
      "execution_count": 407,
      "metadata": {
        "colab": {
          "base_uri": "https://localhost:8080/"
        },
        "id": "RAc0l8MjImho",
        "outputId": "c495a119-d184-4526-a822-b2cb44e10836"
      },
      "outputs": [
        {
          "output_type": "stream",
          "name": "stdout",
          "text": [
            "Epoch 1/10\n",
            "24/24 [==============================] - 11s 210ms/step - loss: 0.0542 - val_loss: 0.0110\n",
            "Epoch 2/10\n",
            "24/24 [==============================] - 1s 36ms/step - loss: 0.0043 - val_loss: 0.0034\n",
            "Epoch 3/10\n",
            "24/24 [==============================] - 1s 34ms/step - loss: 0.0017 - val_loss: 0.0021\n",
            "Epoch 4/10\n",
            "24/24 [==============================] - 1s 34ms/step - loss: 0.0015 - val_loss: 0.0020\n",
            "Epoch 5/10\n",
            "24/24 [==============================] - 1s 34ms/step - loss: 0.0014 - val_loss: 0.0020\n",
            "Epoch 6/10\n",
            "24/24 [==============================] - 1s 34ms/step - loss: 0.0014 - val_loss: 0.0020\n",
            "Epoch 7/10\n",
            "24/24 [==============================] - 1s 34ms/step - loss: 0.0014 - val_loss: 0.0019\n",
            "Epoch 8/10\n",
            "24/24 [==============================] - 1s 35ms/step - loss: 0.0015 - val_loss: 0.0022\n",
            "Epoch 9/10\n",
            "24/24 [==============================] - 1s 34ms/step - loss: 0.0015 - val_loss: 0.0019\n",
            "Epoch 10/10\n",
            "24/24 [==============================] - 1s 35ms/step - loss: 0.0013 - val_loss: 0.0024\n"
          ]
        },
        {
          "output_type": "execute_result",
          "data": {
            "text/plain": [
              "<keras.src.callbacks.History at 0x7dec6076c310>"
            ]
          },
          "metadata": {},
          "execution_count": 407
        }
      ],
      "source": [
        "# Fit the model\n",
        "model.fit(X_train, y_train, epochs=10, batch_size=32, validation_split=0.2)"
      ]
    },
    {
      "cell_type": "code",
      "execution_count": 408,
      "metadata": {
        "id": "U7EzOVLJImho"
      },
      "outputs": [],
      "source": [
        "import tensorflow as tf"
      ]
    },
    {
      "cell_type": "code",
      "execution_count": 409,
      "metadata": {
        "colab": {
          "base_uri": "https://localhost:8080/",
          "height": 35
        },
        "id": "YvvlKj9dImhp",
        "outputId": "f9842f37-ac32-4419-fe82-158cb43fd1fb"
      },
      "outputs": [
        {
          "output_type": "execute_result",
          "data": {
            "text/plain": [
              "'2.14.0'"
            ],
            "application/vnd.google.colaboratory.intrinsic+json": {
              "type": "string"
            }
          },
          "metadata": {},
          "execution_count": 409
        }
      ],
      "source": [
        "\n",
        "tf.__version__"
      ]
    },
    {
      "cell_type": "code",
      "execution_count": 410,
      "metadata": {
        "colab": {
          "base_uri": "https://localhost:8080/"
        },
        "id": "_kYbUiGJImhp",
        "outputId": "208504a5-95c6-40d7-fa04-a0efaec466fd"
      },
      "outputs": [
        {
          "output_type": "stream",
          "name": "stdout",
          "text": [
            "30/30 [==============================] - 1s 10ms/step\n",
            "7/7 [==============================] - 0s 10ms/step\n"
          ]
        }
      ],
      "source": [
        "### Lets Do the prediction and check performance metrics\n",
        "train_predict=model.predict(X_train)\n",
        "test_predict=model.predict(X_test)"
      ]
    },
    {
      "cell_type": "code",
      "execution_count": 411,
      "metadata": {
        "id": "t_uSiTCRImhq"
      },
      "outputs": [],
      "source": [
        "# ##Transformback to original form\n",
        "# train_predict=scaler.inverse_transform(train_predict)\n",
        "# test_predict=scaler.inverse_transform(test_predict)"
      ]
    },
    {
      "cell_type": "code",
      "source": [
        "train_predict[:25]"
      ],
      "metadata": {
        "colab": {
          "base_uri": "https://localhost:8080/"
        },
        "id": "9x6PLGoMW4wP",
        "outputId": "17d64fb8-277b-4aa7-d19f-7c85ded03ee0"
      },
      "execution_count": 412,
      "outputs": [
        {
          "output_type": "execute_result",
          "data": {
            "text/plain": [
              "array([[0.2640688 ],\n",
              "       [0.263841  ],\n",
              "       [0.26362914],\n",
              "       [0.26328045],\n",
              "       [0.26293454],\n",
              "       [0.26269898],\n",
              "       [0.2626636 ],\n",
              "       [0.26301998],\n",
              "       [0.26366   ],\n",
              "       [0.26450717],\n",
              "       [0.26511356],\n",
              "       [0.26560536],\n",
              "       [0.26587474],\n",
              "       [0.26585117],\n",
              "       [0.26540133],\n",
              "       [0.2647684 ],\n",
              "       [0.26413253],\n",
              "       [0.26339346],\n",
              "       [0.26281267],\n",
              "       [0.26248977],\n",
              "       [0.26223364],\n",
              "       [0.2620218 ],\n",
              "       [0.26162636],\n",
              "       [0.26137125],\n",
              "       [0.26141992]], dtype=float32)"
            ]
          },
          "metadata": {},
          "execution_count": 412
        }
      ]
    },
    {
      "cell_type": "code",
      "source": [
        "y_train[:25]"
      ],
      "metadata": {
        "colab": {
          "base_uri": "https://localhost:8080/"
        },
        "id": "qCmdkk6EXgty",
        "outputId": "c93a0a56-200a-41fc-fff2-a37003b59daa"
      },
      "execution_count": 413,
      "outputs": [
        {
          "output_type": "execute_result",
          "data": {
            "text/plain": [
              "array([0.24173627, 0.25597478, 0.26095807, 0.26243633, 0.26419276,\n",
              "       0.27437394, 0.27492632, 0.26492793, 0.26057255, 0.25601056,\n",
              "       0.24922707, 0.24750642, 0.24087396, 0.23796502, 0.24838463,\n",
              "       0.25270819, 0.25285131, 0.25988108, 0.25632048, 0.25404348,\n",
              "       0.25291884, 0.25856177, 0.26841309, 0.27362285, 0.27403615])"
            ]
          },
          "metadata": {},
          "execution_count": 413
        }
      ]
    },
    {
      "cell_type": "code",
      "execution_count": 414,
      "metadata": {
        "colab": {
          "base_uri": "https://localhost:8080/"
        },
        "id": "acvrfQw-Imhq",
        "outputId": "c9eb73ab-fa01-40a0-fb68-291696e26bd8"
      },
      "outputs": [
        {
          "output_type": "execute_result",
          "data": {
            "text/plain": [
              "0.03956914478649876"
            ]
          },
          "metadata": {},
          "execution_count": 414
        }
      ],
      "source": [
        "### Calculate RMSE performance metrics\n",
        "import math\n",
        "from sklearn.metrics import mean_squared_error\n",
        "math.sqrt(mean_squared_error(y_train,train_predict))"
      ]
    },
    {
      "cell_type": "code",
      "source": [
        "# Calculate R2 score for training data\n",
        "from sklearn.metrics import r2_score\n",
        "r2 = r2_score(y_train, train_predict)\n",
        "r2"
      ],
      "metadata": {
        "colab": {
          "base_uri": "https://localhost:8080/"
        },
        "id": "eS7RabVLb-FH",
        "outputId": "b035dadb-5fa1-42df-f66a-df0f7154d5ab"
      },
      "execution_count": 415,
      "outputs": [
        {
          "output_type": "execute_result",
          "data": {
            "text/plain": [
              "0.9690375132629835"
            ]
          },
          "metadata": {},
          "execution_count": 415
        }
      ]
    },
    {
      "cell_type": "code",
      "execution_count": 416,
      "metadata": {
        "colab": {
          "base_uri": "https://localhost:8080/"
        },
        "id": "6FHLIWxVImhq",
        "outputId": "26a0f668-9dde-4338-9603-45629e726f1e"
      },
      "outputs": [
        {
          "output_type": "execute_result",
          "data": {
            "text/plain": [
              "0.030601107566886006"
            ]
          },
          "metadata": {},
          "execution_count": 416
        }
      ],
      "source": [
        "### Test Data RMSE\n",
        "math.sqrt(mean_squared_error(y_test,test_predict))"
      ]
    },
    {
      "cell_type": "code",
      "source": [
        "#r2 score testing data\n",
        "r2 = r2_score(y_test, test_predict)\n",
        "r2"
      ],
      "metadata": {
        "colab": {
          "base_uri": "https://localhost:8080/"
        },
        "id": "ThjprJ6WcPdU",
        "outputId": "e6d49b0c-768e-4d8f-9fb7-ff3b7e7bedf1"
      },
      "execution_count": 417,
      "outputs": [
        {
          "output_type": "execute_result",
          "data": {
            "text/plain": [
              "0.8074365151730474"
            ]
          },
          "metadata": {},
          "execution_count": 417
        }
      ]
    },
    {
      "cell_type": "code",
      "source": [
        "# ##Transformback to original form\n",
        "train_predict=scaler.inverse_transform(train_predict)\n",
        "test_predict=scaler.inverse_transform(test_predict)"
      ],
      "metadata": {
        "id": "50nSFGfBfNJR"
      },
      "execution_count": 418,
      "outputs": []
    },
    {
      "cell_type": "code",
      "execution_count": 421,
      "metadata": {
        "colab": {
          "base_uri": "https://localhost:8080/",
          "height": 843
        },
        "id": "ZTU2CCpaImhr",
        "outputId": "6872dcf1-cb3a-433b-9c65-893dc693b5b7"
      },
      "outputs": [
        {
          "output_type": "display_data",
          "data": {
            "text/plain": [
              "<Figure size 1500x1000 with 1 Axes>"
            ],
            "image/png": "[encoded data removed]"
          },
          "metadata": {}
        }
      ],
      "source": [
        "### Plotting\n",
        "# shift train predictions for plotting\n",
        "look_back=20\n",
        "trainPredictPlot = numpy.empty_like(df1)\n",
        "trainPredictPlot[:, :] = np.nan\n",
        "trainPredictPlot[look_back:len(train_predict)+look_back, :] = train_predict\n",
        "# shift test predictions for plotting\n",
        "testPredictPlot = numpy.empty_like(df1)\n",
        "testPredictPlot[:, :] = numpy.nan\n",
        "testPredictPlot[len(train_predict)+(look_back*2)+1:len(df1)-1, :] = test_predict\n",
        "# plot baseline and predictions\n",
        "plt.figure(figsize=(15, 10))\n",
        "plt.plot(scaler.inverse_transform(df1), label='Original Data')\n",
        "plt.plot(trainPredictPlot,label='train Predict')\n",
        "plt.plot(testPredictPlot,label='test Predict')\n",
        "# Add a legend to the plot\n",
        "# Add labels\n",
        "plt.xlabel(\"1/jan/2019 to 31/oct/2023\")\n",
        "plt.ylabel(\"Closing Price of Nifty50\")\n",
        "plt.legend()\n",
        "plt.show()"
      ]
    },
    {
      "cell_type": "markdown",
      "source": [
        "#Observation\n",
        "\n",
        "--> Decreasing timestamp(Lag variable) from 100 to 20 increased the r2 score.\n",
        "\n",
        "--> Taking too much training data(2015 - 2023) gave the low  r2_score.\n",
        "\n",
        "--> Taking very less training data(2022-2023) gave the very less r2_score(in minus).\n",
        "\n",
        "--> So we have taken training data from 2019-2023."
      ],
      "metadata": {
        "id": "rfNuv6ZLiSbM"
      }
    },
    {
      "cell_type": "code",
      "source": [],
      "metadata": {
        "id": "r1mxQtfRWBJt"
      },
      "execution_count": 419,
      "outputs": []
    },
    {
      "cell_type": "code",
      "source": [],
      "metadata": {
        "id": "-ejaPxLXWBGs"
      },
      "execution_count": 419,
      "outputs": []
    },
    {
      "cell_type": "code",
      "source": [],
      "metadata": {
        "id": "JczG9rgjWBD2"
      },
      "execution_count": 419,
      "outputs": []
    },
    {
      "cell_type": "code",
      "source": [],
      "metadata": {
        "id": "qPN5Ar6UWBAx"
      },
      "execution_count": 419,
      "outputs": []
    }
  ],
  "metadata": {
    "kernelspec": {
      "display_name": "Python 3",
      "language": "python",
      "name": "python3"
    },
    "language_info": {
      "codemirror_mode": {
        "name": "ipython",
        "version": 3
      },
      "file_extension": ".py",
      "mimetype": "text/x-python",
      "name": "python",
      "nbconvert_exporter": "python",
      "pygments_lexer": "ipython3",
      "version": "3.6.9"
    },
    "colab": {
      "provenance": [],
      "include_colab_link": true
    }
  },
  "nbformat": 4,
  "nbformat_minor": 0
}