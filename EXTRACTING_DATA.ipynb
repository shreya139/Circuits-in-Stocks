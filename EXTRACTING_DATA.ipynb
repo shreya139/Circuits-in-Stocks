{
  "nbformat": 4,
  "nbformat_minor": 0,
  "metadata": {
    "colab": {
      "provenance": [],
      "include_colab_link": true
    },
    "kernelspec": {
      "name": "python3",
      "display_name": "Python 3"
    },
    "language_info": {
      "name": "python"
    }
  },
  "cells": [
    {
      "cell_type": "markdown",
      "metadata": {
        "id": "view-in-github",
        "colab_type": "text"
      },
      "source": [
        "<a href=\"https://colab.research.google.com/github/shreya139/Circuits-in-Stocks/blob/data/EXTRACTING_DATA.ipynb\" target=\"_parent\"><img src=\"https://colab.research.google.com/assets/colab-badge.svg\" alt=\"Open In Colab\"/></a>"
      ]
    },
    {
      "cell_type": "code",
      "execution_count": null,
      "metadata": {
        "colab": {
          "base_uri": "https://localhost:8080/"
        },
        "id": "yNJ9aqRWYluz",
        "outputId": "0e6a37da-059a-4277-fe57-ba62402798c3"
      },
      "outputs": [
        {
          "output_type": "stream",
          "name": "stdout",
          "text": [
            "Looking in indexes: https://pypi.org/simple, https://us-python.pkg.dev/colab-wheels/public/simple/\n",
            "Collecting yfinance\n",
            "  Downloading yfinance-0.2.4-py2.py3-none-any.whl (51 kB)\n",
            "\u001b[2K     \u001b[90m━━━━━━━━━━━━━━━━━━━━━━━━━━━━━━━━━━━━━━━\u001b[0m \u001b[32m51.4/51.4 KB\u001b[0m \u001b[31m975.2 kB/s\u001b[0m eta \u001b[36m0:00:00\u001b[0m\n",
            "\u001b[?25hRequirement already satisfied: lxml>=4.9.1 in /usr/local/lib/python3.8/dist-packages (from yfinance) (4.9.2)\n",
            "Collecting frozendict>=2.3.4\n",
            "  Downloading frozendict-2.3.4-cp38-cp38-manylinux_2_17_x86_64.manylinux2014_x86_64.whl (110 kB)\n",
            "\u001b[2K     \u001b[90m━━━━━━━━━━━━━━━━━━━━━━━━━━━━━━━━━━━━━━━\u001b[0m \u001b[32m111.0/111.0 KB\u001b[0m \u001b[31m7.0 MB/s\u001b[0m eta \u001b[36m0:00:00\u001b[0m\n",
            "\u001b[?25hCollecting html5lib>=1.1\n",
            "  Downloading html5lib-1.1-py2.py3-none-any.whl (112 kB)\n",
            "\u001b[2K     \u001b[90m━━━━━━━━━━━━━━━━━━━━━━━━━━━━━━━━━━━━━━\u001b[0m \u001b[32m112.2/112.2 KB\u001b[0m \u001b[31m10.9 MB/s\u001b[0m eta \u001b[36m0:00:00\u001b[0m\n",
            "\u001b[?25hRequirement already satisfied: numpy>=1.16.5 in /usr/local/lib/python3.8/dist-packages (from yfinance) (1.21.6)\n",
            "Collecting requests>=2.26\n",
            "  Downloading requests-2.28.2-py3-none-any.whl (62 kB)\n",
            "\u001b[2K     \u001b[90m━━━━━━━━━━━━━━━━━━━━━━━━━━━━━━━━━━━━━━━━\u001b[0m \u001b[32m62.8/62.8 KB\u001b[0m \u001b[31m4.6 MB/s\u001b[0m eta \u001b[36m0:00:00\u001b[0m\n",
            "\u001b[?25hRequirement already satisfied: multitasking>=0.0.7 in /usr/local/lib/python3.8/dist-packages (from yfinance) (0.0.11)\n",
            "Requirement already satisfied: appdirs>=1.4.4 in /usr/local/lib/python3.8/dist-packages (from yfinance) (1.4.4)\n",
            "Collecting beautifulsoup4>=4.11.1\n",
            "  Downloading beautifulsoup4-4.11.1-py3-none-any.whl (128 kB)\n",
            "\u001b[2K     \u001b[90m━━━━━━━━━━━━━━━━━━━━━━━━━━━━━━━━━━━━━━\u001b[0m \u001b[32m128.2/128.2 KB\u001b[0m \u001b[31m10.8 MB/s\u001b[0m eta \u001b[36m0:00:00\u001b[0m\n",
            "\u001b[?25hRequirement already satisfied: pytz>=2022.5 in /usr/local/lib/python3.8/dist-packages (from yfinance) (2022.7)\n",
            "Collecting cryptography>=3.3.2\n",
            "  Downloading cryptography-39.0.0-cp36-abi3-manylinux_2_28_x86_64.whl (4.2 MB)\n",
            "\u001b[2K     \u001b[90m━━━━━━━━━━━━━━━━━━━━━━━━━━━━━━━━━━━━━━━━\u001b[0m \u001b[32m4.2/4.2 MB\u001b[0m \u001b[31m37.2 MB/s\u001b[0m eta \u001b[36m0:00:00\u001b[0m\n",
            "\u001b[?25hRequirement already satisfied: pandas>=1.3.0 in /usr/local/lib/python3.8/dist-packages (from yfinance) (1.3.5)\n",
            "Collecting soupsieve>1.2\n",
            "  Downloading soupsieve-2.3.2.post1-py3-none-any.whl (37 kB)\n",
            "Requirement already satisfied: cffi>=1.12 in /usr/local/lib/python3.8/dist-packages (from cryptography>=3.3.2->yfinance) (1.15.1)\n",
            "Requirement already satisfied: six>=1.9 in /usr/local/lib/python3.8/dist-packages (from html5lib>=1.1->yfinance) (1.15.0)\n",
            "Requirement already satisfied: webencodings in /usr/local/lib/python3.8/dist-packages (from html5lib>=1.1->yfinance) (0.5.1)\n",
            "Requirement already satisfied: python-dateutil>=2.7.3 in /usr/local/lib/python3.8/dist-packages (from pandas>=1.3.0->yfinance) (2.8.2)\n",
            "Requirement already satisfied: idna<4,>=2.5 in /usr/local/lib/python3.8/dist-packages (from requests>=2.26->yfinance) (2.10)\n",
            "Requirement already satisfied: charset-normalizer<4,>=2 in /usr/local/lib/python3.8/dist-packages (from requests>=2.26->yfinance) (2.1.1)\n",
            "Requirement already satisfied: certifi>=2017.4.17 in /usr/local/lib/python3.8/dist-packages (from requests>=2.26->yfinance) (2022.12.7)\n",
            "Requirement already satisfied: urllib3<1.27,>=1.21.1 in /usr/local/lib/python3.8/dist-packages (from requests>=2.26->yfinance) (1.24.3)\n",
            "Requirement already satisfied: pycparser in /usr/local/lib/python3.8/dist-packages (from cffi>=1.12->cryptography>=3.3.2->yfinance) (2.21)\n",
            "Installing collected packages: soupsieve, requests, html5lib, frozendict, cryptography, beautifulsoup4, yfinance\n",
            "  Attempting uninstall: requests\n",
            "    Found existing installation: requests 2.25.1\n",
            "    Uninstalling requests-2.25.1:\n",
            "      Successfully uninstalled requests-2.25.1\n",
            "  Attempting uninstall: html5lib\n",
            "    Found existing installation: html5lib 1.0.1\n",
            "    Uninstalling html5lib-1.0.1:\n",
            "      Successfully uninstalled html5lib-1.0.1\n",
            "  Attempting uninstall: beautifulsoup4\n",
            "    Found existing installation: beautifulsoup4 4.6.3\n",
            "    Uninstalling beautifulsoup4-4.6.3:\n",
            "      Successfully uninstalled beautifulsoup4-4.6.3\n",
            "Successfully installed beautifulsoup4-4.11.1 cryptography-39.0.0 frozendict-2.3.4 html5lib-1.1 requests-2.28.2 soupsieve-2.3.2.post1 yfinance-0.2.4\n"
          ]
        }
      ],
      "source": [
        "pip install yfinance"
      ]
    },
    {
      "cell_type": "code",
      "source": [
        "import yfinance as yahooFin \n",
        "import pandas as pd\n",
        "from matplotlib import pyplot as plt\n",
        "from statsmodels.graphics.tsaplots import plot_acf"
      ],
      "metadata": {
        "id": "TcXUvdpFcPk2"
      },
      "execution_count": 14,
      "outputs": []
    },
    {
      "cell_type": "code",
      "source": [
        "# Using ticker for the Amazon in yfinance function  \n",
        "retrAmazonInfo = yahooFin.Ticker(\"AMZN\")  \n",
        "# Printing Facebook financial information in the output  \n",
        "for key in retrAmazonInfo.info:\n",
        "  print(key,': ',retrAmazonInfo.info[key])  "
      ],
      "metadata": {
        "colab": {
          "base_uri": "https://localhost:8080/"
        },
        "id": "bLUnlrLNZFfQ",
        "outputId": "1b58d2b2-c3ff-43f1-c276-5b6f8bf9108d"
      },
      "execution_count": 17,
      "outputs": [
        {
          "output_type": "stream",
          "name": "stdout",
          "text": [
            "zip :  98109-5210\n",
            "sector :  Consumer Cyclical\n",
            "fullTimeEmployees :  1544000\n",
            "longBusinessSummary :  Amazon.com, Inc. engages in the retail sale of consumer products and subscriptions through online and physical stores in North America and internationally. The company operates through three segments: North America, International, and Amazon Web Services (AWS). Its products offered through its stores include merchandise and content purchased for resale; and products offered by third-party sellers The company also manufactures and sells electronic devices, including Kindle, Fire tablets, Fire TVs, Rings, and Echo and other devices; provides Kindle Direct Publishing, an online service that allows independent authors and publishers to make their books available in the Kindle Store; and develops and produces media content. In addition, it offers programs that enable sellers to sell their products in its stores; and programs that allow authors, musicians, filmmakers, Twitch streamers, skill and app developers, and others to publish and sell content. Further, the company provides compute, storage, database, analytics, machine learning, and other services, as well as fulfillment, advertising, and digital content subscriptions. Additionally, it offers Amazon Prime, a membership program. The company serves consumers, sellers, developers, enterprises, content creators, and advertisers. Amazon.com, Inc. was incorporated in 1994 and is headquartered in Seattle, Washington.\n",
            "city :  Seattle\n",
            "phone :  206 266 1000\n",
            "state :  WA\n",
            "country :  United States\n",
            "companyOfficers :  []\n",
            "website :  https://www.amazon.com\n",
            "maxAge :  1\n",
            "address1 :  410 Terry Avenue North\n",
            "industry :  Internet Retail\n",
            "ebitdaMargins :  0.10265\n",
            "profitMargins :  0.022550002\n",
            "grossMargins :  0.43043998\n",
            "operatingCashflow :  39665000448\n",
            "revenueGrowth :  0.147\n",
            "operatingMargins :  0.025829999\n",
            "ebitda :  51548999680\n",
            "targetLowPrice :  80\n",
            "recommendationKey :  buy\n",
            "grossProfits :  197478000000\n",
            "freeCashflow :  -12691999744\n",
            "targetMedianPrice :  135\n",
            "currentPrice :  97.52\n",
            "earningsGrowth :  -0.097\n",
            "currentRatio :  0.937\n",
            "returnOnAssets :  0.02\n",
            "numberOfAnalystOpinions :  47\n",
            "targetMeanPrice :  136.3\n",
            "debtToEquity :  119.525\n",
            "returnOnEquity :  0.08776\n",
            "targetHighPrice :  232.75\n",
            "totalCash :  58661998592\n",
            "totalDebt :  164333993984\n",
            "totalRevenue :  502190997504\n",
            "totalCashPerShare :  5.75\n",
            "financialCurrency :  USD\n",
            "revenuePerShare :  49.349\n",
            "quickRatio :  0.674\n",
            "recommendationMean :  1.8\n",
            "exchange :  NMS\n",
            "shortName :  Amazon.com, Inc.\n",
            "longName :  Amazon.com, Inc.\n",
            "exchangeTimezoneName :  America/New_York\n",
            "exchangeTimezoneShortName :  EST\n",
            "isEsgPopulated :  False\n",
            "gmtOffSetMilliseconds :  -18000000\n",
            "quoteType :  EQUITY\n",
            "symbol :  AMZN\n",
            "messageBoardId :  finmb_18749\n",
            "market :  us_market\n",
            "annualHoldingsTurnover :  None\n",
            "enterpriseToRevenue :  2.186\n",
            "beta3Year :  None\n",
            "enterpriseToEbitda :  21.296\n",
            "52WeekChange :  -0.3033589\n",
            "morningStarRiskRating :  None\n",
            "forwardEps :  1.61\n",
            "revenueQuarterlyGrowth :  None\n",
            "sharesOutstanding :  10201700352\n",
            "fundInceptionDate :  None\n",
            "annualReportExpenseRatio :  None\n",
            "totalAssets :  None\n",
            "bookValue :  13.482\n",
            "sharesShort :  76832110\n",
            "sharesPercentSharesOut :  0.0075\n",
            "fundFamily :  None\n",
            "lastFiscalYearEnd :  1640908800\n",
            "heldPercentInstitutions :  0.61114\n",
            "netIncomeToCommon :  11322999808\n",
            "trailingEps :  1.14\n",
            "lastDividendValue :  None\n",
            "SandP52WeekChange :  -0.077273905\n",
            "priceToBook :  7.233348\n",
            "heldPercentInsiders :  0.09839\n",
            "nextFiscalYearEnd :  1672444800\n",
            "yield :  None\n",
            "mostRecentQuarter :  1664496000\n",
            "shortRatio :  1.02\n",
            "sharesShortPreviousMonthDate :  1669766400\n",
            "floatShares :  9190670247\n",
            "beta :  1.168817\n",
            "enterpriseValue :  1097782853632\n",
            "priceHint :  2\n",
            "threeYearAverageReturn :  None\n",
            "lastSplitDate :  1654473600\n",
            "lastSplitFactor :  20:1\n",
            "legalType :  None\n",
            "lastDividendDate :  None\n",
            "morningStarOverallRating :  None\n",
            "earningsQuarterlyGrowth :  -0.09\n",
            "priceToSalesTrailing12Months :  1.9810586\n",
            "dateShortInterest :  1672358400\n",
            "pegRatio :  -34\n",
            "ytdReturn :  None\n",
            "forwardPE :  60.571426\n",
            "lastCapGain :  None\n",
            "shortPercentOfFloat :  0.0086\n",
            "sharesShortPriorMonth :  67678658\n",
            "impliedSharesOutstanding :  0\n",
            "category :  None\n",
            "fiveYearAverageReturn :  None\n",
            "previousClose :  97.25\n",
            "regularMarketOpen :  97.56\n",
            "twoHundredDayAverage :  114.30356\n",
            "trailingAnnualDividendYield :  0\n",
            "payoutRatio :  0\n",
            "volume24Hr :  None\n",
            "regularMarketDayHigh :  97.745\n",
            "navPrice :  None\n",
            "averageDailyVolume10Day :  77188150\n",
            "regularMarketPreviousClose :  97.25\n",
            "fiftyDayAverage :  91.1144\n",
            "trailingAnnualDividendRate :  0\n",
            "open :  97.56\n",
            "toCurrency :  None\n",
            "averageVolume10days :  77188150\n",
            "expireDate :  None\n",
            "algorithm :  None\n",
            "dividendRate :  None\n",
            "exDividendDate :  None\n",
            "circulatingSupply :  None\n",
            "startDate :  None\n",
            "regularMarketDayLow :  95.87\n",
            "currency :  USD\n",
            "trailingPE :  85.54386\n",
            "regularMarketVolume :  76501103\n",
            "lastMarket :  None\n",
            "maxSupply :  None\n",
            "openInterest :  None\n",
            "marketCap :  994869772288\n",
            "volumeAllCurrencies :  None\n",
            "strikePrice :  None\n",
            "averageVolume :  85649260\n",
            "dayLow :  95.87\n",
            "ask :  0\n",
            "askSize :  900\n",
            "volume :  76501103\n",
            "fiftyTwoWeekHigh :  170.8315\n",
            "fromCurrency :  None\n",
            "fiveYearAvgDividendYield :  None\n",
            "fiftyTwoWeekLow :  81.43\n",
            "bid :  97.21\n",
            "tradeable :  False\n",
            "dividendYield :  None\n",
            "bidSize :  800\n",
            "dayHigh :  97.745\n",
            "coinMarketCapLink :  None\n",
            "regularMarketPrice :  97.52\n",
            "preMarketPrice :  97.2\n",
            "logo_url :  https://logo.clearbit.com/amazon.com\n",
            "trailingPegRatio :  None\n"
          ]
        }
      ]
    },
    {
      "cell_type": "code",
      "source": [
        "maxHisMP = retrAmazonInfo.history(period=\"12mo\") # 3mo for 3months\n",
        "# fixTimeMP = retrFBInfo.history(start = strtDate, end = endDate)  \n",
        "print(maxHisMP)"
      ],
      "metadata": {
        "colab": {
          "base_uri": "https://localhost:8080/"
        },
        "id": "his0Yy2yZ_6B",
        "outputId": "5ea99d3c-787f-4637-a3c1-a1ed822b6eb8"
      },
      "execution_count": null,
      "outputs": [
        {
          "output_type": "stream",
          "name": "stdout",
          "text": [
            "                                 Open        High         Low       Close  \\\n",
            "Date                                                                        \n",
            "2022-01-21 00:00:00-05:00  149.949997  150.899994  142.070496  142.643005   \n",
            "2022-01-24 00:00:00-05:00  139.000000  144.945007  135.352005  144.544006   \n",
            "2022-01-25 00:00:00-05:00  142.242493  143.600006  138.145004  139.985992   \n",
            "2022-01-26 00:00:00-05:00  144.750000  145.184998  137.318497  138.872498   \n",
            "2022-01-27 00:00:00-05:00  140.800003  144.243500  139.350006  139.637497   \n",
            "...                               ...         ...         ...         ...   \n",
            "2023-01-13 00:00:00-05:00   94.180000   98.370003   94.120003   98.120003   \n",
            "2023-01-17 00:00:00-05:00   98.680000   98.889999   95.730003   96.050003   \n",
            "2023-01-18 00:00:00-05:00   97.250000   99.320000   95.379997   95.459999   \n",
            "2023-01-19 00:00:00-05:00   94.739998   95.440002   92.860001   93.680000   \n",
            "2023-01-20 00:00:00-05:00   93.860001   97.349998   93.199997   97.250000   \n",
            "\n",
            "                              Volume  Dividends  Stock Splits  \n",
            "Date                                                           \n",
            "2022-01-21 00:00:00-05:00  163972000        0.0           0.0  \n",
            "2022-01-24 00:00:00-05:00  155624000        0.0           0.0  \n",
            "2022-01-25 00:00:00-05:00   90824000        0.0           0.0  \n",
            "2022-01-26 00:00:00-05:00   95602000        0.0           0.0  \n",
            "2022-01-27 00:00:00-05:00   77516000        0.0           0.0  \n",
            "...                              ...        ...           ...  \n",
            "2023-01-13 00:00:00-05:00   85413600        0.0           0.0  \n",
            "2023-01-17 00:00:00-05:00   72755000        0.0           0.0  \n",
            "2023-01-18 00:00:00-05:00   79570400        0.0           0.0  \n",
            "2023-01-19 00:00:00-05:00   69002700        0.0           0.0  \n",
            "2023-01-20 00:00:00-05:00   67307100        0.0           0.0  \n",
            "\n",
            "[251 rows x 7 columns]\n"
          ]
        }
      ]
    },
    {
      "cell_type": "code",
      "source": [
        "df = maxHisMP['Close']\n",
        "df"
      ],
      "metadata": {
        "colab": {
          "base_uri": "https://localhost:8080/"
        },
        "id": "A3c31q8XcNo6",
        "outputId": "74e84191-bf96-40d6-d07b-94aa0828e6ac"
      },
      "execution_count": null,
      "outputs": [
        {
          "output_type": "execute_result",
          "data": {
            "text/plain": [
              "Date\n",
              "2022-01-21 00:00:00-05:00    142.643005\n",
              "2022-01-24 00:00:00-05:00    144.544006\n",
              "2022-01-25 00:00:00-05:00    139.985992\n",
              "2022-01-26 00:00:00-05:00    138.872498\n",
              "2022-01-27 00:00:00-05:00    139.637497\n",
              "                                ...    \n",
              "2023-01-13 00:00:00-05:00     98.120003\n",
              "2023-01-17 00:00:00-05:00     96.050003\n",
              "2023-01-18 00:00:00-05:00     95.459999\n",
              "2023-01-19 00:00:00-05:00     93.680000\n",
              "2023-01-20 00:00:00-05:00     97.250000\n",
              "Name: Close, Length: 251, dtype: float64"
            ]
          },
          "metadata": {},
          "execution_count": 5
        }
      ]
    },
    {
      "cell_type": "code",
      "source": [
        "maxHisMP.to_csv('Data1.csv',index = True)"
      ],
      "metadata": {
        "id": "cb1Oo7l1V5H4"
      },
      "execution_count": null,
      "outputs": []
    },
    {
      "cell_type": "code",
      "source": [
        "df.isnull().sum()"
      ],
      "metadata": {
        "colab": {
          "base_uri": "https://localhost:8080/"
        },
        "id": "0Bx_Rpned461",
        "outputId": "c383d479-6500-4c6e-d2ae-fb63c1dac424"
      },
      "execution_count": null,
      "outputs": [
        {
          "output_type": "execute_result",
          "data": {
            "text/plain": [
              "0"
            ]
          },
          "metadata": {},
          "execution_count": 6
        }
      ]
    },
    {
      "cell_type": "code",
      "source": [
        "plt.figure(figsize=(20,5))\n",
        "plt.plot(df.index,df)"
      ],
      "metadata": {
        "colab": {
          "base_uri": "https://localhost:8080/",
          "height": 290
        },
        "id": "I6X3b3HNeEm9",
        "outputId": "09b53b3e-ba9c-4ba7-c729-03034031f604"
      },
      "execution_count": null,
      "outputs": [
        {
          "output_type": "execute_result",
          "data": {
            "text/plain": [
              "[<matplotlib.lines.Line2D at 0x7efe3dfe8c70>]"
            ]
          },
          "metadata": {},
          "execution_count": 7
        },
        {
          "output_type": "display_data",
          "data": {
            "text/plain": [
              "<Figure size 1440x360 with 1 Axes>"
            ],
            "image/png": "[encoded data removed]"
          },
          "metadata": {
            "needs_background": "light"
          }
        }
      ]
    },
    {
      "cell_type": "code",
      "source": [
        "plt.rc(\"figure\", figsize=(20,8))\n",
        "# plt.figure(figsize=(20,10))\n",
        "plot_acf(df)\n",
        "plt.show()"
      ],
      "metadata": {
        "colab": {
          "base_uri": "https://localhost:8080/",
          "height": 419
        },
        "id": "jib2aP-WhRaN",
        "outputId": "40d15c6e-4297-49f2-9cac-14b3cf356c9a"
      },
      "execution_count": null,
      "outputs": [
        {
          "output_type": "display_data",
          "data": {
            "text/plain": [
              "<Figure size 1440x576 with 1 Axes>"
            ],
            "image/png": "[encoded data removed]"
          },
          "metadata": {
            "needs_background": "light"
          }
        }
      ]
    },
    {
      "cell_type": "code",
      "source": [
        "MinuteData = retrAmazonInfo.history(period=\"1d\",interval = '1m')"
      ],
      "metadata": {
        "id": "wYxha4wloCzE"
      },
      "execution_count": null,
      "outputs": []
    },
    {
      "cell_type": "code",
      "source": [
        "MinuteData.to_csv(\"DataByMinute.csv\",index=True)"
      ],
      "metadata": {
        "id": "FcqjObhwYRx0"
      },
      "execution_count": null,
      "outputs": []
    },
    {
      "cell_type": "code",
      "source": [],
      "metadata": {
        "id": "oknIA3h0vweq"
      },
      "execution_count": null,
      "outputs": []
    },
    {
      "cell_type": "markdown",
      "source": [
        "**Jatan**"
      ],
      "metadata": {
        "id": "ivQHboDVvzWF"
      }
    },
    {
      "cell_type": "markdown",
      "source": [],
      "metadata": {
        "id": "6HI4n0w63ITD"
      }
    },
    {
      "cell_type": "markdown",
      "source": [],
      "metadata": {
        "id": "Nwx__loF3IPw"
      }
    },
    {
      "cell_type": "markdown",
      "source": [],
      "metadata": {
        "id": "s7yXOoch3ILN"
      }
    },
    {
      "cell_type": "code",
      "source": [
        "from pandas_datareader import data as pdr\n",
        "\n",
        "import yfinance as yf\n",
        "yf.pdr_override() # <== that's all it takes :-)\n",
        "\n",
        "# download dataframe\n",
        "data = pdr.get_data_yahoo(\"TATAMOTORS.NS\", start=\"2022-01-01\", end=\"2022-12-31\",interval=\"1h\")"
      ],
      "metadata": {
        "id": "elOk_Cyttk1Z",
        "colab": {
          "base_uri": "https://localhost:8080/"
        },
        "outputId": "d0132079-0a85-4e2d-b85b-cb81d34f367e"
      },
      "execution_count": 34,
      "outputs": [
        {
          "output_type": "stream",
          "name": "stdout",
          "text": [
            "\r[*********************100%***********************]  1 of 1 completed\n"
          ]
        }
      ]
    },
    {
      "cell_type": "code",
      "source": [
        "data"
      ],
      "metadata": {
        "colab": {
          "base_uri": "https://localhost:8080/",
          "height": 455
        },
        "id": "_J6YJMxi1ENS",
        "outputId": "c56ba787-c864-420d-df80-f6d6b2ac97c3"
      },
      "execution_count": 35,
      "outputs": [
        {
          "output_type": "execute_result",
          "data": {
            "text/plain": [
              "                                 Open        High         Low       Close  \\\n",
              "Datetime                                                                    \n",
              "2022-01-03 09:15:00+05:30  492.899994  499.649994  492.899994  494.100006   \n",
              "2022-01-03 10:15:00+05:30  494.049988  496.899994  493.700012  496.600006   \n",
              "2022-01-03 11:15:00+05:30  496.700012  496.700012  494.600006  495.299988   \n",
              "2022-01-03 12:15:00+05:30  495.299988  497.250000  494.649994  496.649994   \n",
              "2022-01-03 13:15:00+05:30  496.649994  497.899994  494.649994  496.850006   \n",
              "...                               ...         ...         ...         ...   \n",
              "2022-12-30 11:15:00+05:30  389.899994  390.000000  387.799988  389.299988   \n",
              "2022-12-30 12:15:00+05:30  389.200012  390.350006  389.000000  389.399994   \n",
              "2022-12-30 13:15:00+05:30  389.399994  390.250000  388.549988  389.700012   \n",
              "2022-12-30 14:15:00+05:30  389.700012  391.250000  387.500000  387.600006   \n",
              "2022-12-30 15:15:00+05:30  387.700012  388.000000  387.000000  388.000000   \n",
              "\n",
              "                            Adj Close   Volume  \n",
              "Datetime                                        \n",
              "2022-01-03 09:15:00+05:30  494.100006        0  \n",
              "2022-01-03 10:15:00+05:30  496.600006  2969297  \n",
              "2022-01-03 11:15:00+05:30  495.299988  1740006  \n",
              "2022-01-03 12:15:00+05:30  496.649994  1955909  \n",
              "2022-01-03 13:15:00+05:30  496.850006  2385422  \n",
              "...                               ...      ...  \n",
              "2022-12-30 11:15:00+05:30  389.299988   979842  \n",
              "2022-12-30 12:15:00+05:30  389.399994   684203  \n",
              "2022-12-30 13:15:00+05:30  389.700012   476749  \n",
              "2022-12-30 14:15:00+05:30  387.600006  1389498  \n",
              "2022-12-30 15:15:00+05:30  388.000000   761136  \n",
              "\n",
              "[1730 rows x 6 columns]"
            ],
            "text/html": [
              "\n",
              "  <div id=\"df-c489a7d2-08d9-4982-a95d-561a7bdfcd2f\">\n",
              "    <div class=\"colab-df-container\">\n",
              "      <div>\n",
              "<style scoped>\n",
              "    .dataframe tbody tr th:only-of-type {\n",
              "        vertical-align: middle;\n",
              "    }\n",
              "\n",
              "    .dataframe tbody tr th {\n",
              "        vertical-align: top;\n",
              "    }\n",
              "\n",
              "    .dataframe thead th {\n",
              "        text-align: right;\n",
              "    }\n",
              "</style>\n",
              "<table border=\"1\" class=\"dataframe\">\n",
              "  <thead>\n",
              "    <tr style=\"text-align: right;\">\n",
              "      <th></th>\n",
              "      <th>Open</th>\n",
              "      <th>High</th>\n",
              "      <th>Low</th>\n",
              "      <th>Close</th>\n",
              "      <th>Adj Close</th>\n",
              "      <th>Volume</th>\n",
              "    </tr>\n",
              "    <tr>\n",
              "      <th>Datetime</th>\n",
              "      <th></th>\n",
              "      <th></th>\n",
              "      <th></th>\n",
              "      <th></th>\n",
              "      <th></th>\n",
              "      <th></th>\n",
              "    </tr>\n",
              "  </thead>\n",
              "  <tbody>\n",
              "    <tr>\n",
              "      <th>2022-01-03 09:15:00+05:30</th>\n",
              "      <td>492.899994</td>\n",
              "      <td>499.649994</td>\n",
              "      <td>492.899994</td>\n",
              "      <td>494.100006</td>\n",
              "      <td>494.100006</td>\n",
              "      <td>0</td>\n",
              "    </tr>\n",
              "    <tr>\n",
              "      <th>2022-01-03 10:15:00+05:30</th>\n",
              "      <td>494.049988</td>\n",
              "      <td>496.899994</td>\n",
              "      <td>493.700012</td>\n",
              "      <td>496.600006</td>\n",
              "      <td>496.600006</td>\n",
              "      <td>2969297</td>\n",
              "    </tr>\n",
              "    <tr>\n",
              "      <th>2022-01-03 11:15:00+05:30</th>\n",
              "      <td>496.700012</td>\n",
              "      <td>496.700012</td>\n",
              "      <td>494.600006</td>\n",
              "      <td>495.299988</td>\n",
              "      <td>495.299988</td>\n",
              "      <td>1740006</td>\n",
              "    </tr>\n",
              "    <tr>\n",
              "      <th>2022-01-03 12:15:00+05:30</th>\n",
              "      <td>495.299988</td>\n",
              "      <td>497.250000</td>\n",
              "      <td>494.649994</td>\n",
              "      <td>496.649994</td>\n",
              "      <td>496.649994</td>\n",
              "      <td>1955909</td>\n",
              "    </tr>\n",
              "    <tr>\n",
              "      <th>2022-01-03 13:15:00+05:30</th>\n",
              "      <td>496.649994</td>\n",
              "      <td>497.899994</td>\n",
              "      <td>494.649994</td>\n",
              "      <td>496.850006</td>\n",
              "      <td>496.850006</td>\n",
              "      <td>2385422</td>\n",
              "    </tr>\n",
              "    <tr>\n",
              "      <th>...</th>\n",
              "      <td>...</td>\n",
              "      <td>...</td>\n",
              "      <td>...</td>\n",
              "      <td>...</td>\n",
              "      <td>...</td>\n",
              "      <td>...</td>\n",
              "    </tr>\n",
              "    <tr>\n",
              "      <th>2022-12-30 11:15:00+05:30</th>\n",
              "      <td>389.899994</td>\n",
              "      <td>390.000000</td>\n",
              "      <td>387.799988</td>\n",
              "      <td>389.299988</td>\n",
              "      <td>389.299988</td>\n",
              "      <td>979842</td>\n",
              "    </tr>\n",
              "    <tr>\n",
              "      <th>2022-12-30 12:15:00+05:30</th>\n",
              "      <td>389.200012</td>\n",
              "      <td>390.350006</td>\n",
              "      <td>389.000000</td>\n",
              "      <td>389.399994</td>\n",
              "      <td>389.399994</td>\n",
              "      <td>684203</td>\n",
              "    </tr>\n",
              "    <tr>\n",
              "      <th>2022-12-30 13:15:00+05:30</th>\n",
              "      <td>389.399994</td>\n",
              "      <td>390.250000</td>\n",
              "      <td>388.549988</td>\n",
              "      <td>389.700012</td>\n",
              "      <td>389.700012</td>\n",
              "      <td>476749</td>\n",
              "    </tr>\n",
              "    <tr>\n",
              "      <th>2022-12-30 14:15:00+05:30</th>\n",
              "      <td>389.700012</td>\n",
              "      <td>391.250000</td>\n",
              "      <td>387.500000</td>\n",
              "      <td>387.600006</td>\n",
              "      <td>387.600006</td>\n",
              "      <td>1389498</td>\n",
              "    </tr>\n",
              "    <tr>\n",
              "      <th>2022-12-30 15:15:00+05:30</th>\n",
              "      <td>387.700012</td>\n",
              "      <td>388.000000</td>\n",
              "      <td>387.000000</td>\n",
              "      <td>388.000000</td>\n",
              "      <td>388.000000</td>\n",
              "      <td>761136</td>\n",
              "    </tr>\n",
              "  </tbody>\n",
              "</table>\n",
              "<p>1730 rows × 6 columns</p>\n",
              "</div>\n",
              "      <button class=\"colab-df-convert\" onclick=\"convertToInteractive('df-c489a7d2-08d9-4982-a95d-561a7bdfcd2f')\"\n",
              "              title=\"Convert this dataframe to an interactive table.\"\n",
              "              style=\"display:none;\">\n",
              "        \n",
              "  <svg xmlns=\"http://www.w3.org/2000/svg\" height=\"24px\"viewBox=\"0 0 24 24\"\n",
              "       width=\"24px\">\n",
              "    <path d=\"M0 0h24v24H0V0z\" fill=\"none\"/>\n",
              "    <path d=\"M18.56 5.44l.94 2.06.94-2.06 2.06-.94-2.06-.94-.94-2.06-.94 2.06-2.06.94zm-11 1L8.5 8.5l.94-2.06 2.06-.94-2.06-.94L8.5 2.5l-.94 2.06-2.06.94zm10 10l.94 2.06.94-2.06 2.06-.94-2.06-.94-.94-2.06-.94 2.06-2.06.94z\"/><path d=\"M17.41 7.96l-1.37-1.37c-.4-.4-.92-.59-1.43-.59-.52 0-1.04.2-1.43.59L10.3 9.45l-7.72 7.72c-.78.78-.78 2.05 0 2.83L4 21.41c.39.39.9.59 1.41.59.51 0 1.02-.2 1.41-.59l7.78-7.78 2.81-2.81c.8-.78.8-2.07 0-2.86zM5.41 20L4 18.59l7.72-7.72 1.47 1.35L5.41 20z\"/>\n",
              "  </svg>\n",
              "      </button>\n",
              "      \n",
              "  <style>\n",
              "    .colab-df-container {\n",
              "      display:flex;\n",
              "      flex-wrap:wrap;\n",
              "      gap: 12px;\n",
              "    }\n",
              "\n",
              "    .colab-df-convert {\n",
              "      background-color: #E8F0FE;\n",
              "      border: none;\n",
              "      border-radius: 50%;\n",
              "      cursor: pointer;\n",
              "      display: none;\n",
              "      fill: #1967D2;\n",
              "      height: 32px;\n",
              "      padding: 0 0 0 0;\n",
              "      width: 32px;\n",
              "    }\n",
              "\n",
              "    .colab-df-convert:hover {\n",
              "      background-color: #E2EBFA;\n",
              "      box-shadow: 0px 1px 2px rgba(60, 64, 67, 0.3), 0px 1px 3px 1px rgba(60, 64, 67, 0.15);\n",
              "      fill: #174EA6;\n",
              "    }\n",
              "\n",
              "    [theme=dark] .colab-df-convert {\n",
              "      background-color: #3B4455;\n",
              "      fill: #D2E3FC;\n",
              "    }\n",
              "\n",
              "    [theme=dark] .colab-df-convert:hover {\n",
              "      background-color: #434B5C;\n",
              "      box-shadow: 0px 1px 3px 1px rgba(0, 0, 0, 0.15);\n",
              "      filter: drop-shadow(0px 1px 2px rgba(0, 0, 0, 0.3));\n",
              "      fill: #FFFFFF;\n",
              "    }\n",
              "  </style>\n",
              "\n",
              "      <script>\n",
              "        const buttonEl =\n",
              "          document.querySelector('#df-c489a7d2-08d9-4982-a95d-561a7bdfcd2f button.colab-df-convert');\n",
              "        buttonEl.style.display =\n",
              "          google.colab.kernel.accessAllowed ? 'block' : 'none';\n",
              "\n",
              "        async function convertToInteractive(key) {\n",
              "          const element = document.querySelector('#df-c489a7d2-08d9-4982-a95d-561a7bdfcd2f');\n",
              "          const dataTable =\n",
              "            await google.colab.kernel.invokeFunction('convertToInteractive',\n",
              "                                                     [key], {});\n",
              "          if (!dataTable) return;\n",
              "\n",
              "          const docLinkHtml = 'Like what you see? Visit the ' +\n",
              "            '<a target=\"_blank\" href=https://colab.research.google.com/notebooks/data_table.ipynb>data table notebook</a>'\n",
              "            + ' to learn more about interactive tables.';\n",
              "          element.innerHTML = '';\n",
              "          dataTable['output_type'] = 'display_data';\n",
              "          await google.colab.output.renderOutput(dataTable, element);\n",
              "          const docLink = document.createElement('div');\n",
              "          docLink.innerHTML = docLinkHtml;\n",
              "          element.appendChild(docLink);\n",
              "        }\n",
              "      </script>\n",
              "    </div>\n",
              "  </div>\n",
              "  "
            ]
          },
          "metadata": {},
          "execution_count": 35
        }
      ]
    },
    {
      "cell_type": "code",
      "source": [
        "data.to_csv(\"Tatamotors.csv\",index=True)"
      ],
      "metadata": {
        "id": "8iimoNx93NW7"
      },
      "execution_count": 36,
      "outputs": []
    },
    {
      "cell_type": "code",
      "source": [
        "data = pdr.get_data_yahoo(\"LT.NS\", start=\"2022-01-01\", end=\"2022-12-31\",interval=\"1h\")"
      ],
      "metadata": {
        "colab": {
          "base_uri": "https://localhost:8080/"
        },
        "id": "IDE8eA9X6pPG",
        "outputId": "713d6567-bdb1-4017-96b5-bc2b2d96717d"
      },
      "execution_count": 37,
      "outputs": [
        {
          "output_type": "stream",
          "name": "stdout",
          "text": [
            "\r[*********************100%***********************]  1 of 1 completed\n"
          ]
        }
      ]
    },
    {
      "cell_type": "code",
      "source": [
        "data.to_csv(\"LT.csv\",index=True)"
      ],
      "metadata": {
        "id": "mBo0Zjnf-kZk"
      },
      "execution_count": 38,
      "outputs": []
    },
    {
      "cell_type": "code",
      "source": [
        "#ADANIPOWER\n",
        "data = pdr.get_data_yahoo(\"ADANIPOWER.NS\", start=\"2022-01-01\", end=\"2022-12-31\",interval=\"1h\")\n",
        "data.to_csv(\"ADANIPOWER.csv\",index=True)"
      ],
      "metadata": {
        "colab": {
          "base_uri": "https://localhost:8080/"
        },
        "id": "gKz1mejG-ufm",
        "outputId": "1bdaf6f2-9a86-44be-e3e5-b4eedcb5e576"
      },
      "execution_count": 39,
      "outputs": [
        {
          "output_type": "stream",
          "name": "stdout",
          "text": [
            "\r[*********************100%***********************]  1 of 1 completed\n"
          ]
        }
      ]
    },
    {
      "cell_type": "code",
      "source": [
        "data = pdr.get_data_yahoo(\"CAMS.NS\", start=\"2022-01-01\", end=\"2022-12-31\",interval=\"1h\")\n",
        "data.to_csv(\"CAMS.csv\",index=True)"
      ],
      "metadata": {
        "colab": {
          "base_uri": "https://localhost:8080/"
        },
        "id": "3QJKrwqOAFaM",
        "outputId": "c511da4f-4590-4845-aaf2-2453d0226f38"
      },
      "execution_count": 40,
      "outputs": [
        {
          "output_type": "stream",
          "name": "stdout",
          "text": [
            "\r[*********************100%***********************]  1 of 1 completed\n"
          ]
        }
      ]
    },
    {
      "cell_type": "code",
      "source": [
        "data = pdr.get_data_yahoo(\"TATAELXSI.NS\", start=\"2022-01-01\", end=\"2022-12-31\",interval=\"1h\")\n",
        "data.to_csv(\"TATAELXSI.csv\",index=True)"
      ],
      "metadata": {
        "colab": {
          "base_uri": "https://localhost:8080/"
        },
        "id": "MnrhmKL6AYFm",
        "outputId": "46ff16db-74fd-41a3-f2fa-0f78016ad6f0"
      },
      "execution_count": 41,
      "outputs": [
        {
          "output_type": "stream",
          "name": "stdout",
          "text": [
            "\r[*********************100%***********************]  1 of 1 completed\n"
          ]
        }
      ]
    },
    {
      "cell_type": "code",
      "source": [
        "data = pdr.get_data_yahoo(\"DEEPAKNTR.NS\", start=\"2022-01-01\", end=\"2022-12-31\",interval=\"1h\")\n",
        "data.to_csv(\"DEEPAKNTR.csv\",index=True)"
      ],
      "metadata": {
        "colab": {
          "base_uri": "https://localhost:8080/"
        },
        "id": "9qe6DxX8BPh3",
        "outputId": "e1f40cbc-be38-4fd1-c489-da41b4a2ca9c"
      },
      "execution_count": 42,
      "outputs": [
        {
          "output_type": "stream",
          "name": "stdout",
          "text": [
            "\r[*********************100%***********************]  1 of 1 completed\n"
          ]
        }
      ]
    },
    {
      "cell_type": "code",
      "source": [],
      "metadata": {
        "id": "d5JsLPp9DPEM"
      },
      "execution_count": null,
      "outputs": []
    }
  ]
}